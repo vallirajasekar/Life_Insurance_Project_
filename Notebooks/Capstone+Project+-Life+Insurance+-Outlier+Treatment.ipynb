{
 "cells": [
  {
   "cell_type": "code",
   "execution_count": 1,
   "id": "09d49647",
   "metadata": {},
   "outputs": [],
   "source": [
    "#/Users/vallirajasekar/Documents/LI_BFSI_01+-+Life+Insurance+Sales/Sales.xlsx"
   ]
  },
  {
   "cell_type": "code",
   "execution_count": 2,
   "id": "33b5829c",
   "metadata": {},
   "outputs": [],
   "source": [
    "import pandas as pd \n",
    "import numpy as np\n",
    "import datetime\n",
    "import matplotlib.pyplot as plt\n",
    "import seaborn as sns"
   ]
  },
  {
   "cell_type": "code",
   "execution_count": 3,
   "id": "ddf50609",
   "metadata": {},
   "outputs": [],
   "source": [
    "import os\n",
    "\n",
    "# Change the current working directory to the Documents folder\n",
    "os.chdir('/Users/vallirajasekar/Documents/LI_BFSI_01+-+Life+Insurance+Sales')\n"
   ]
  },
  {
   "cell_type": "code",
   "execution_count": 4,
   "id": "f53886f2",
   "metadata": {},
   "outputs": [],
   "source": [
    "df=pd.read_excel('Sales.xlsx',sheet_name='Sales')"
   ]
  },
  {
   "cell_type": "code",
   "execution_count": 5,
   "id": "e7cfa926",
   "metadata": {},
   "outputs": [
    {
     "data": {
      "text/html": [
       "<div>\n",
       "<style scoped>\n",
       "    .dataframe tbody tr th:only-of-type {\n",
       "        vertical-align: middle;\n",
       "    }\n",
       "\n",
       "    .dataframe tbody tr th {\n",
       "        vertical-align: top;\n",
       "    }\n",
       "\n",
       "    .dataframe thead th {\n",
       "        text-align: right;\n",
       "    }\n",
       "</style>\n",
       "<table border=\"1\" class=\"dataframe\">\n",
       "  <thead>\n",
       "    <tr style=\"text-align: right;\">\n",
       "      <th></th>\n",
       "      <th>CustID</th>\n",
       "      <th>AgentBonus</th>\n",
       "      <th>Age</th>\n",
       "      <th>CustTenure</th>\n",
       "      <th>Channel</th>\n",
       "      <th>Occupation</th>\n",
       "      <th>EducationField</th>\n",
       "      <th>Gender</th>\n",
       "      <th>ExistingProdType</th>\n",
       "      <th>Designation</th>\n",
       "      <th>NumberOfPolicy</th>\n",
       "      <th>MaritalStatus</th>\n",
       "      <th>MonthlyIncome</th>\n",
       "      <th>Complaint</th>\n",
       "      <th>ExistingPolicyTenure</th>\n",
       "      <th>SumAssured</th>\n",
       "      <th>Zone</th>\n",
       "      <th>PaymentMethod</th>\n",
       "      <th>LastMonthCalls</th>\n",
       "      <th>CustCareScore</th>\n",
       "    </tr>\n",
       "  </thead>\n",
       "  <tbody>\n",
       "    <tr>\n",
       "      <th>0</th>\n",
       "      <td>7000000</td>\n",
       "      <td>4409</td>\n",
       "      <td>22.0</td>\n",
       "      <td>4.0</td>\n",
       "      <td>Agent</td>\n",
       "      <td>Salaried</td>\n",
       "      <td>Graduate</td>\n",
       "      <td>Female</td>\n",
       "      <td>3</td>\n",
       "      <td>Manager</td>\n",
       "      <td>2.0</td>\n",
       "      <td>Single</td>\n",
       "      <td>20993.0</td>\n",
       "      <td>1</td>\n",
       "      <td>2.0</td>\n",
       "      <td>806761.0</td>\n",
       "      <td>North</td>\n",
       "      <td>Half Yearly</td>\n",
       "      <td>5</td>\n",
       "      <td>2.0</td>\n",
       "    </tr>\n",
       "    <tr>\n",
       "      <th>1</th>\n",
       "      <td>7000001</td>\n",
       "      <td>2214</td>\n",
       "      <td>11.0</td>\n",
       "      <td>2.0</td>\n",
       "      <td>Third Party Partner</td>\n",
       "      <td>Salaried</td>\n",
       "      <td>Graduate</td>\n",
       "      <td>Male</td>\n",
       "      <td>4</td>\n",
       "      <td>Manager</td>\n",
       "      <td>4.0</td>\n",
       "      <td>Divorced</td>\n",
       "      <td>20130.0</td>\n",
       "      <td>0</td>\n",
       "      <td>3.0</td>\n",
       "      <td>294502.0</td>\n",
       "      <td>North</td>\n",
       "      <td>Yearly</td>\n",
       "      <td>7</td>\n",
       "      <td>3.0</td>\n",
       "    </tr>\n",
       "    <tr>\n",
       "      <th>2</th>\n",
       "      <td>7000002</td>\n",
       "      <td>4273</td>\n",
       "      <td>26.0</td>\n",
       "      <td>4.0</td>\n",
       "      <td>Agent</td>\n",
       "      <td>Free Lancer</td>\n",
       "      <td>Post Graduate</td>\n",
       "      <td>Male</td>\n",
       "      <td>4</td>\n",
       "      <td>Exe</td>\n",
       "      <td>3.0</td>\n",
       "      <td>Unmarried</td>\n",
       "      <td>17090.0</td>\n",
       "      <td>1</td>\n",
       "      <td>2.0</td>\n",
       "      <td>NaN</td>\n",
       "      <td>North</td>\n",
       "      <td>Yearly</td>\n",
       "      <td>0</td>\n",
       "      <td>3.0</td>\n",
       "    </tr>\n",
       "    <tr>\n",
       "      <th>3</th>\n",
       "      <td>7000003</td>\n",
       "      <td>1791</td>\n",
       "      <td>11.0</td>\n",
       "      <td>NaN</td>\n",
       "      <td>Third Party Partner</td>\n",
       "      <td>Salaried</td>\n",
       "      <td>Graduate</td>\n",
       "      <td>Fe male</td>\n",
       "      <td>3</td>\n",
       "      <td>Executive</td>\n",
       "      <td>3.0</td>\n",
       "      <td>Divorced</td>\n",
       "      <td>17909.0</td>\n",
       "      <td>1</td>\n",
       "      <td>2.0</td>\n",
       "      <td>268635.0</td>\n",
       "      <td>West</td>\n",
       "      <td>Half Yearly</td>\n",
       "      <td>0</td>\n",
       "      <td>5.0</td>\n",
       "    </tr>\n",
       "    <tr>\n",
       "      <th>4</th>\n",
       "      <td>7000004</td>\n",
       "      <td>2955</td>\n",
       "      <td>6.0</td>\n",
       "      <td>NaN</td>\n",
       "      <td>Agent</td>\n",
       "      <td>Small Business</td>\n",
       "      <td>UG</td>\n",
       "      <td>Male</td>\n",
       "      <td>3</td>\n",
       "      <td>Executive</td>\n",
       "      <td>4.0</td>\n",
       "      <td>Divorced</td>\n",
       "      <td>18468.0</td>\n",
       "      <td>0</td>\n",
       "      <td>4.0</td>\n",
       "      <td>366405.0</td>\n",
       "      <td>West</td>\n",
       "      <td>Half Yearly</td>\n",
       "      <td>2</td>\n",
       "      <td>5.0</td>\n",
       "    </tr>\n",
       "  </tbody>\n",
       "</table>\n",
       "</div>"
      ],
      "text/plain": [
       "    CustID  AgentBonus   Age  CustTenure              Channel      Occupation  \\\n",
       "0  7000000        4409  22.0         4.0                Agent        Salaried   \n",
       "1  7000001        2214  11.0         2.0  Third Party Partner        Salaried   \n",
       "2  7000002        4273  26.0         4.0                Agent     Free Lancer   \n",
       "3  7000003        1791  11.0         NaN  Third Party Partner        Salaried   \n",
       "4  7000004        2955   6.0         NaN                Agent  Small Business   \n",
       "\n",
       "  EducationField   Gender  ExistingProdType Designation  NumberOfPolicy  \\\n",
       "0       Graduate   Female                 3     Manager             2.0   \n",
       "1       Graduate     Male                 4     Manager             4.0   \n",
       "2  Post Graduate     Male                 4         Exe             3.0   \n",
       "3       Graduate  Fe male                 3   Executive             3.0   \n",
       "4             UG     Male                 3   Executive             4.0   \n",
       "\n",
       "  MaritalStatus  MonthlyIncome  Complaint  ExistingPolicyTenure  SumAssured  \\\n",
       "0        Single        20993.0          1                   2.0    806761.0   \n",
       "1      Divorced        20130.0          0                   3.0    294502.0   \n",
       "2     Unmarried        17090.0          1                   2.0         NaN   \n",
       "3      Divorced        17909.0          1                   2.0    268635.0   \n",
       "4      Divorced        18468.0          0                   4.0    366405.0   \n",
       "\n",
       "    Zone PaymentMethod  LastMonthCalls  CustCareScore  \n",
       "0  North   Half Yearly               5            2.0  \n",
       "1  North        Yearly               7            3.0  \n",
       "2  North        Yearly               0            3.0  \n",
       "3   West   Half Yearly               0            5.0  \n",
       "4   West   Half Yearly               2            5.0  "
      ]
     },
     "execution_count": 5,
     "metadata": {},
     "output_type": "execute_result"
    }
   ],
   "source": [
    "df.head()"
   ]
  },
  {
   "cell_type": "code",
   "execution_count": 6,
   "id": "5b924ede",
   "metadata": {},
   "outputs": [],
   "source": [
    "df_1=df.copy()"
   ]
  },
  {
   "cell_type": "code",
   "execution_count": 7,
   "id": "56483099",
   "metadata": {},
   "outputs": [
    {
     "data": {
      "text/plain": [
       "(4520, 20)"
      ]
     },
     "execution_count": 7,
     "metadata": {},
     "output_type": "execute_result"
    }
   ],
   "source": [
    "df.shape"
   ]
  },
  {
   "cell_type": "code",
   "execution_count": 8,
   "id": "a6b9c6fb",
   "metadata": {},
   "outputs": [
    {
     "data": {
      "text/plain": [
       "Index(['CustID', 'AgentBonus', 'Age', 'CustTenure', 'Channel', 'Occupation',\n",
       "       'EducationField', 'Gender', 'ExistingProdType', 'Designation',\n",
       "       'NumberOfPolicy', 'MaritalStatus', 'MonthlyIncome', 'Complaint',\n",
       "       'ExistingPolicyTenure', 'SumAssured', 'Zone', 'PaymentMethod',\n",
       "       'LastMonthCalls', 'CustCareScore'],\n",
       "      dtype='object')"
      ]
     },
     "execution_count": 8,
     "metadata": {},
     "output_type": "execute_result"
    }
   ],
   "source": [
    "df.columns"
   ]
  },
  {
   "cell_type": "code",
   "execution_count": 9,
   "id": "67dae887",
   "metadata": {},
   "outputs": [
    {
     "name": "stdout",
     "output_type": "stream",
     "text": [
      "<class 'pandas.core.frame.DataFrame'>\n",
      "RangeIndex: 4520 entries, 0 to 4519\n",
      "Data columns (total 20 columns):\n",
      " #   Column                Non-Null Count  Dtype  \n",
      "---  ------                --------------  -----  \n",
      " 0   CustID                4520 non-null   int64  \n",
      " 1   AgentBonus            4520 non-null   int64  \n",
      " 2   Age                   4251 non-null   float64\n",
      " 3   CustTenure            4294 non-null   float64\n",
      " 4   Channel               4520 non-null   object \n",
      " 5   Occupation            4520 non-null   object \n",
      " 6   EducationField        4520 non-null   object \n",
      " 7   Gender                4520 non-null   object \n",
      " 8   ExistingProdType      4520 non-null   int64  \n",
      " 9   Designation           4520 non-null   object \n",
      " 10  NumberOfPolicy        4475 non-null   float64\n",
      " 11  MaritalStatus         4520 non-null   object \n",
      " 12  MonthlyIncome         4284 non-null   float64\n",
      " 13  Complaint             4520 non-null   int64  \n",
      " 14  ExistingPolicyTenure  4336 non-null   float64\n",
      " 15  SumAssured            4366 non-null   float64\n",
      " 16  Zone                  4520 non-null   object \n",
      " 17  PaymentMethod         4520 non-null   object \n",
      " 18  LastMonthCalls        4520 non-null   int64  \n",
      " 19  CustCareScore         4468 non-null   float64\n",
      "dtypes: float64(7), int64(5), object(8)\n",
      "memory usage: 706.4+ KB\n"
     ]
    }
   ],
   "source": [
    "df.info()"
   ]
  },
  {
   "cell_type": "code",
   "execution_count": 10,
   "id": "b5a6fba5",
   "metadata": {},
   "outputs": [
    {
     "data": {
      "text/plain": [
       "CustID                    0\n",
       "AgentBonus                0\n",
       "Age                     269\n",
       "CustTenure              226\n",
       "Channel                   0\n",
       "Occupation                0\n",
       "EducationField            0\n",
       "Gender                    0\n",
       "ExistingProdType          0\n",
       "Designation               0\n",
       "NumberOfPolicy           45\n",
       "MaritalStatus             0\n",
       "MonthlyIncome           236\n",
       "Complaint                 0\n",
       "ExistingPolicyTenure    184\n",
       "SumAssured              154\n",
       "Zone                      0\n",
       "PaymentMethod             0\n",
       "LastMonthCalls            0\n",
       "CustCareScore            52\n",
       "dtype: int64"
      ]
     },
     "execution_count": 10,
     "metadata": {},
     "output_type": "execute_result"
    }
   ],
   "source": [
    "df.isnull().sum()"
   ]
  },
  {
   "cell_type": "code",
   "execution_count": 11,
   "id": "f0729367",
   "metadata": {},
   "outputs": [
    {
     "data": {
      "text/html": [
       "<div>\n",
       "<style scoped>\n",
       "    .dataframe tbody tr th:only-of-type {\n",
       "        vertical-align: middle;\n",
       "    }\n",
       "\n",
       "    .dataframe tbody tr th {\n",
       "        vertical-align: top;\n",
       "    }\n",
       "\n",
       "    .dataframe thead th {\n",
       "        text-align: right;\n",
       "    }\n",
       "</style>\n",
       "<table border=\"1\" class=\"dataframe\">\n",
       "  <thead>\n",
       "    <tr style=\"text-align: right;\">\n",
       "      <th></th>\n",
       "      <th>CustID</th>\n",
       "      <th>AgentBonus</th>\n",
       "      <th>Age</th>\n",
       "      <th>CustTenure</th>\n",
       "      <th>ExistingProdType</th>\n",
       "      <th>NumberOfPolicy</th>\n",
       "      <th>MonthlyIncome</th>\n",
       "      <th>Complaint</th>\n",
       "      <th>ExistingPolicyTenure</th>\n",
       "      <th>SumAssured</th>\n",
       "      <th>LastMonthCalls</th>\n",
       "      <th>CustCareScore</th>\n",
       "    </tr>\n",
       "  </thead>\n",
       "  <tbody>\n",
       "    <tr>\n",
       "      <th>count</th>\n",
       "      <td>4.520000e+03</td>\n",
       "      <td>4520.000000</td>\n",
       "      <td>4251.000000</td>\n",
       "      <td>4294.000000</td>\n",
       "      <td>4520.000000</td>\n",
       "      <td>4475.000000</td>\n",
       "      <td>4284.000000</td>\n",
       "      <td>4520.000000</td>\n",
       "      <td>4336.000000</td>\n",
       "      <td>4.366000e+03</td>\n",
       "      <td>4520.000000</td>\n",
       "      <td>4468.000000</td>\n",
       "    </tr>\n",
       "    <tr>\n",
       "      <th>mean</th>\n",
       "      <td>7.002260e+06</td>\n",
       "      <td>4077.838274</td>\n",
       "      <td>14.494707</td>\n",
       "      <td>14.469027</td>\n",
       "      <td>3.688938</td>\n",
       "      <td>3.565363</td>\n",
       "      <td>22890.309991</td>\n",
       "      <td>0.287168</td>\n",
       "      <td>4.130074</td>\n",
       "      <td>6.199997e+05</td>\n",
       "      <td>4.626991</td>\n",
       "      <td>3.067592</td>\n",
       "    </tr>\n",
       "    <tr>\n",
       "      <th>std</th>\n",
       "      <td>1.304956e+03</td>\n",
       "      <td>1403.321711</td>\n",
       "      <td>9.037629</td>\n",
       "      <td>8.963671</td>\n",
       "      <td>1.015769</td>\n",
       "      <td>1.455926</td>\n",
       "      <td>4885.600757</td>\n",
       "      <td>0.452491</td>\n",
       "      <td>3.346386</td>\n",
       "      <td>2.462348e+05</td>\n",
       "      <td>3.620132</td>\n",
       "      <td>1.382968</td>\n",
       "    </tr>\n",
       "    <tr>\n",
       "      <th>min</th>\n",
       "      <td>7.000000e+06</td>\n",
       "      <td>1605.000000</td>\n",
       "      <td>2.000000</td>\n",
       "      <td>2.000000</td>\n",
       "      <td>1.000000</td>\n",
       "      <td>1.000000</td>\n",
       "      <td>16009.000000</td>\n",
       "      <td>0.000000</td>\n",
       "      <td>1.000000</td>\n",
       "      <td>1.685360e+05</td>\n",
       "      <td>0.000000</td>\n",
       "      <td>1.000000</td>\n",
       "    </tr>\n",
       "    <tr>\n",
       "      <th>25%</th>\n",
       "      <td>7.001130e+06</td>\n",
       "      <td>3027.750000</td>\n",
       "      <td>7.000000</td>\n",
       "      <td>7.000000</td>\n",
       "      <td>3.000000</td>\n",
       "      <td>2.000000</td>\n",
       "      <td>19683.500000</td>\n",
       "      <td>0.000000</td>\n",
       "      <td>2.000000</td>\n",
       "      <td>4.394432e+05</td>\n",
       "      <td>2.000000</td>\n",
       "      <td>2.000000</td>\n",
       "    </tr>\n",
       "    <tr>\n",
       "      <th>50%</th>\n",
       "      <td>7.002260e+06</td>\n",
       "      <td>3911.500000</td>\n",
       "      <td>13.000000</td>\n",
       "      <td>13.000000</td>\n",
       "      <td>4.000000</td>\n",
       "      <td>4.000000</td>\n",
       "      <td>21606.000000</td>\n",
       "      <td>0.000000</td>\n",
       "      <td>3.000000</td>\n",
       "      <td>5.789765e+05</td>\n",
       "      <td>3.000000</td>\n",
       "      <td>3.000000</td>\n",
       "    </tr>\n",
       "    <tr>\n",
       "      <th>75%</th>\n",
       "      <td>7.003389e+06</td>\n",
       "      <td>4867.250000</td>\n",
       "      <td>20.000000</td>\n",
       "      <td>20.000000</td>\n",
       "      <td>4.000000</td>\n",
       "      <td>5.000000</td>\n",
       "      <td>24725.000000</td>\n",
       "      <td>1.000000</td>\n",
       "      <td>6.000000</td>\n",
       "      <td>7.582360e+05</td>\n",
       "      <td>8.000000</td>\n",
       "      <td>4.000000</td>\n",
       "    </tr>\n",
       "    <tr>\n",
       "      <th>max</th>\n",
       "      <td>7.004519e+06</td>\n",
       "      <td>9608.000000</td>\n",
       "      <td>58.000000</td>\n",
       "      <td>57.000000</td>\n",
       "      <td>6.000000</td>\n",
       "      <td>6.000000</td>\n",
       "      <td>38456.000000</td>\n",
       "      <td>1.000000</td>\n",
       "      <td>25.000000</td>\n",
       "      <td>1.838496e+06</td>\n",
       "      <td>18.000000</td>\n",
       "      <td>5.000000</td>\n",
       "    </tr>\n",
       "  </tbody>\n",
       "</table>\n",
       "</div>"
      ],
      "text/plain": [
       "             CustID   AgentBonus          Age   CustTenure  ExistingProdType  \\\n",
       "count  4.520000e+03  4520.000000  4251.000000  4294.000000       4520.000000   \n",
       "mean   7.002260e+06  4077.838274    14.494707    14.469027          3.688938   \n",
       "std    1.304956e+03  1403.321711     9.037629     8.963671          1.015769   \n",
       "min    7.000000e+06  1605.000000     2.000000     2.000000          1.000000   \n",
       "25%    7.001130e+06  3027.750000     7.000000     7.000000          3.000000   \n",
       "50%    7.002260e+06  3911.500000    13.000000    13.000000          4.000000   \n",
       "75%    7.003389e+06  4867.250000    20.000000    20.000000          4.000000   \n",
       "max    7.004519e+06  9608.000000    58.000000    57.000000          6.000000   \n",
       "\n",
       "       NumberOfPolicy  MonthlyIncome    Complaint  ExistingPolicyTenure  \\\n",
       "count     4475.000000    4284.000000  4520.000000           4336.000000   \n",
       "mean         3.565363   22890.309991     0.287168              4.130074   \n",
       "std          1.455926    4885.600757     0.452491              3.346386   \n",
       "min          1.000000   16009.000000     0.000000              1.000000   \n",
       "25%          2.000000   19683.500000     0.000000              2.000000   \n",
       "50%          4.000000   21606.000000     0.000000              3.000000   \n",
       "75%          5.000000   24725.000000     1.000000              6.000000   \n",
       "max          6.000000   38456.000000     1.000000             25.000000   \n",
       "\n",
       "         SumAssured  LastMonthCalls  CustCareScore  \n",
       "count  4.366000e+03     4520.000000    4468.000000  \n",
       "mean   6.199997e+05        4.626991       3.067592  \n",
       "std    2.462348e+05        3.620132       1.382968  \n",
       "min    1.685360e+05        0.000000       1.000000  \n",
       "25%    4.394432e+05        2.000000       2.000000  \n",
       "50%    5.789765e+05        3.000000       3.000000  \n",
       "75%    7.582360e+05        8.000000       4.000000  \n",
       "max    1.838496e+06       18.000000       5.000000  "
      ]
     },
     "execution_count": 11,
     "metadata": {},
     "output_type": "execute_result"
    }
   ],
   "source": [
    "df.describe()"
   ]
  },
  {
   "cell_type": "code",
   "execution_count": 62,
   "id": "0f56c3d2",
   "metadata": {},
   "outputs": [
    {
     "data": {
      "text/plain": [
       "count    4520.000000\n",
       "mean       14.365614\n",
       "std         8.366757\n",
       "min         2.000000\n",
       "25%         8.000000\n",
       "50%        14.000000\n",
       "75%        19.000000\n",
       "max        35.500000\n",
       "Name: Age, dtype: float64"
      ]
     },
     "execution_count": 62,
     "metadata": {},
     "output_type": "execute_result"
    }
   ],
   "source": [
    "df.Age.describe()"
   ]
  },
  {
   "cell_type": "code",
   "execution_count": 12,
   "id": "8cde2bbe",
   "metadata": {},
   "outputs": [
    {
     "data": {
      "text/plain": [
       "CustID                  False\n",
       "AgentBonus              False\n",
       "Age                      True\n",
       "CustTenure               True\n",
       "Channel                 False\n",
       "Occupation              False\n",
       "EducationField          False\n",
       "Gender                  False\n",
       "ExistingProdType        False\n",
       "Designation             False\n",
       "NumberOfPolicy           True\n",
       "MaritalStatus           False\n",
       "MonthlyIncome            True\n",
       "Complaint               False\n",
       "ExistingPolicyTenure     True\n",
       "SumAssured               True\n",
       "Zone                    False\n",
       "PaymentMethod           False\n",
       "LastMonthCalls          False\n",
       "CustCareScore            True\n",
       "dtype: bool"
      ]
     },
     "execution_count": 12,
     "metadata": {},
     "output_type": "execute_result"
    }
   ],
   "source": [
    "df.isnull().sum()>0"
   ]
  },
  {
   "cell_type": "code",
   "execution_count": 13,
   "id": "4361f47c",
   "metadata": {},
   "outputs": [
    {
     "data": {
      "text/html": [
       "<div>\n",
       "<style scoped>\n",
       "    .dataframe tbody tr th:only-of-type {\n",
       "        vertical-align: middle;\n",
       "    }\n",
       "\n",
       "    .dataframe tbody tr th {\n",
       "        vertical-align: top;\n",
       "    }\n",
       "\n",
       "    .dataframe thead th {\n",
       "        text-align: right;\n",
       "    }\n",
       "</style>\n",
       "<table border=\"1\" class=\"dataframe\">\n",
       "  <thead>\n",
       "    <tr style=\"text-align: right;\">\n",
       "      <th></th>\n",
       "      <th>Age</th>\n",
       "      <th>CustTenure</th>\n",
       "      <th>NumberOfPolicy</th>\n",
       "      <th>MonthlyIncome</th>\n",
       "      <th>ExistingPolicyTenure</th>\n",
       "      <th>SumAssured</th>\n",
       "      <th>CustCareScore</th>\n",
       "    </tr>\n",
       "  </thead>\n",
       "  <tbody>\n",
       "    <tr>\n",
       "      <th>0</th>\n",
       "      <td>22.0</td>\n",
       "      <td>4.0</td>\n",
       "      <td>2.0</td>\n",
       "      <td>20993.0</td>\n",
       "      <td>2.0</td>\n",
       "      <td>806761.0</td>\n",
       "      <td>2.0</td>\n",
       "    </tr>\n",
       "    <tr>\n",
       "      <th>1</th>\n",
       "      <td>11.0</td>\n",
       "      <td>2.0</td>\n",
       "      <td>4.0</td>\n",
       "      <td>20130.0</td>\n",
       "      <td>3.0</td>\n",
       "      <td>294502.0</td>\n",
       "      <td>3.0</td>\n",
       "    </tr>\n",
       "    <tr>\n",
       "      <th>2</th>\n",
       "      <td>26.0</td>\n",
       "      <td>4.0</td>\n",
       "      <td>3.0</td>\n",
       "      <td>17090.0</td>\n",
       "      <td>2.0</td>\n",
       "      <td>NaN</td>\n",
       "      <td>3.0</td>\n",
       "    </tr>\n",
       "    <tr>\n",
       "      <th>3</th>\n",
       "      <td>11.0</td>\n",
       "      <td>NaN</td>\n",
       "      <td>3.0</td>\n",
       "      <td>17909.0</td>\n",
       "      <td>2.0</td>\n",
       "      <td>268635.0</td>\n",
       "      <td>5.0</td>\n",
       "    </tr>\n",
       "    <tr>\n",
       "      <th>4</th>\n",
       "      <td>6.0</td>\n",
       "      <td>NaN</td>\n",
       "      <td>4.0</td>\n",
       "      <td>18468.0</td>\n",
       "      <td>4.0</td>\n",
       "      <td>366405.0</td>\n",
       "      <td>5.0</td>\n",
       "    </tr>\n",
       "    <tr>\n",
       "      <th>...</th>\n",
       "      <td>...</td>\n",
       "      <td>...</td>\n",
       "      <td>...</td>\n",
       "      <td>...</td>\n",
       "      <td>...</td>\n",
       "      <td>...</td>\n",
       "      <td>...</td>\n",
       "    </tr>\n",
       "    <tr>\n",
       "      <th>4515</th>\n",
       "      <td>4.0</td>\n",
       "      <td>8.0</td>\n",
       "      <td>2.0</td>\n",
       "      <td>26355.0</td>\n",
       "      <td>2.0</td>\n",
       "      <td>636473.0</td>\n",
       "      <td>1.0</td>\n",
       "    </tr>\n",
       "    <tr>\n",
       "      <th>4516</th>\n",
       "      <td>9.0</td>\n",
       "      <td>9.0</td>\n",
       "      <td>2.0</td>\n",
       "      <td>20991.0</td>\n",
       "      <td>3.0</td>\n",
       "      <td>296813.0</td>\n",
       "      <td>3.0</td>\n",
       "    </tr>\n",
       "    <tr>\n",
       "      <th>4517</th>\n",
       "      <td>23.0</td>\n",
       "      <td>23.0</td>\n",
       "      <td>5.0</td>\n",
       "      <td>NaN</td>\n",
       "      <td>2.0</td>\n",
       "      <td>667371.0</td>\n",
       "      <td>1.0</td>\n",
       "    </tr>\n",
       "    <tr>\n",
       "      <th>4518</th>\n",
       "      <td>10.0</td>\n",
       "      <td>10.0</td>\n",
       "      <td>2.0</td>\n",
       "      <td>20068.0</td>\n",
       "      <td>6.0</td>\n",
       "      <td>943999.0</td>\n",
       "      <td>5.0</td>\n",
       "    </tr>\n",
       "    <tr>\n",
       "      <th>4519</th>\n",
       "      <td>14.0</td>\n",
       "      <td>10.0</td>\n",
       "      <td>2.0</td>\n",
       "      <td>23820.0</td>\n",
       "      <td>3.0</td>\n",
       "      <td>700308.0</td>\n",
       "      <td>3.0</td>\n",
       "    </tr>\n",
       "  </tbody>\n",
       "</table>\n",
       "<p>4520 rows × 7 columns</p>\n",
       "</div>"
      ],
      "text/plain": [
       "       Age  CustTenure  NumberOfPolicy  MonthlyIncome  ExistingPolicyTenure  \\\n",
       "0     22.0         4.0             2.0        20993.0                   2.0   \n",
       "1     11.0         2.0             4.0        20130.0                   3.0   \n",
       "2     26.0         4.0             3.0        17090.0                   2.0   \n",
       "3     11.0         NaN             3.0        17909.0                   2.0   \n",
       "4      6.0         NaN             4.0        18468.0                   4.0   \n",
       "...    ...         ...             ...            ...                   ...   \n",
       "4515   4.0         8.0             2.0        26355.0                   2.0   \n",
       "4516   9.0         9.0             2.0        20991.0                   3.0   \n",
       "4517  23.0        23.0             5.0            NaN                   2.0   \n",
       "4518  10.0        10.0             2.0        20068.0                   6.0   \n",
       "4519  14.0        10.0             2.0        23820.0                   3.0   \n",
       "\n",
       "      SumAssured  CustCareScore  \n",
       "0       806761.0            2.0  \n",
       "1       294502.0            3.0  \n",
       "2            NaN            3.0  \n",
       "3       268635.0            5.0  \n",
       "4       366405.0            5.0  \n",
       "...          ...            ...  \n",
       "4515    636473.0            1.0  \n",
       "4516    296813.0            3.0  \n",
       "4517    667371.0            1.0  \n",
       "4518    943999.0            5.0  \n",
       "4519    700308.0            3.0  \n",
       "\n",
       "[4520 rows x 7 columns]"
      ]
     },
     "execution_count": 13,
     "metadata": {},
     "output_type": "execute_result"
    }
   ],
   "source": [
    "df.loc[:, df.isnull().sum() > 0]\n"
   ]
  },
  {
   "cell_type": "code",
   "execution_count": null,
   "id": "0e466866",
   "metadata": {},
   "outputs": [],
   "source": []
  },
  {
   "cell_type": "code",
   "execution_count": 14,
   "id": "019c1192",
   "metadata": {},
   "outputs": [
    {
     "data": {
      "text/plain": [
       "count    4251.000000\n",
       "mean       14.494707\n",
       "std         9.037629\n",
       "min         2.000000\n",
       "25%         7.000000\n",
       "50%        13.000000\n",
       "75%        20.000000\n",
       "max        58.000000\n",
       "Name: Age, dtype: float64"
      ]
     },
     "execution_count": 14,
     "metadata": {},
     "output_type": "execute_result"
    }
   ],
   "source": [
    "df.Age.describe()"
   ]
  },
  {
   "cell_type": "code",
   "execution_count": 15,
   "id": "7b59dfee",
   "metadata": {},
   "outputs": [
    {
     "data": {
      "image/png": "[encoded data removed]",
      "text/plain": [
       "<Figure size 864x576 with 1 Axes>"
      ]
     },
     "metadata": {
      "needs_background": "light"
     },
     "output_type": "display_data"
    }
   ],
   "source": [
    "# The Age column is left Skewed and missing value is less than 30%\n",
    "\n",
    "fig, ax = plt.subplots(figsize=(12, 8)) # set figure size\n",
    "\n",
    "sns.histplot(df, x=\"Age\", kde=True, ax=ax)\n",
    "ax.set_xlabel(\"Age\")\n",
    "ax.set_title(\"Age_Histogram\")\n",
    "\n",
    "plt.show()\n"
   ]
  },
  {
   "cell_type": "code",
   "execution_count": 16,
   "id": "84146ed9",
   "metadata": {},
   "outputs": [
    {
     "data": {
      "image/png": "[encoded data removed]",
      "text/plain": [
       "<Figure size 864x576 with 1 Axes>"
      ]
     },
     "metadata": {
      "needs_background": "light"
     },
     "output_type": "display_data"
    }
   ],
   "source": [
    "\n",
    "fig, ax = plt.subplots(figsize=(12, 8))\n",
    "\n",
    "sns.boxplot(data=df, x='Age', ax=ax)\n",
    "\n",
    "ax.set_xlabel(\"Age\")\n",
    "ax.set_title(\"Age Boxplot\")\n",
    "\n",
    "plt.show()\n"
   ]
  },
  {
   "cell_type": "code",
   "execution_count": 17,
   "id": "7c5fe071",
   "metadata": {},
   "outputs": [
    {
     "data": {
      "image/png": "[encoded data removed]",
      "text/plain": [
       "<Figure size 864x576 with 1 Axes>"
      ]
     },
     "metadata": {
      "needs_background": "light"
     },
     "output_type": "display_data"
    }
   ],
   "source": [
    "fig, ax = plt.subplots(figsize=(12, 8)) # set figure size\n",
    "\n",
    "sns.histplot(df, x=\"CustTenure\", kde=True, ax=ax)\n",
    "ax.set_xlabel(\"CustTenure\")\n",
    "ax.set_title(\"CustTenure_Histogram\")\n",
    "\n",
    "plt.show()\n"
   ]
  },
  {
   "cell_type": "code",
   "execution_count": 18,
   "id": "db777dba",
   "metadata": {},
   "outputs": [
    {
     "data": {
      "image/png": "[encoded data removed]",
      "text/plain": [
       "<Figure size 864x576 with 1 Axes>"
      ]
     },
     "metadata": {
      "needs_background": "light"
     },
     "output_type": "display_data"
    }
   ],
   "source": [
    "fig, ax = plt.subplots(figsize=(12, 8))\n",
    "\n",
    "sns.boxplot(data=df, x='CustTenure', ax=ax)\n",
    "\n",
    "ax.set_xlabel(\"CustTenure\")\n",
    "ax.set_title(\"CustTenure\")\n",
    "\n",
    "plt.show()\n"
   ]
  },
  {
   "cell_type": "code",
   "execution_count": 19,
   "id": "40f2b9d4",
   "metadata": {},
   "outputs": [
    {
     "data": {
      "image/png": "[encoded data removed]",
      "text/plain": [
       "<Figure size 864x576 with 1 Axes>"
      ]
     },
     "metadata": {
      "needs_background": "light"
     },
     "output_type": "display_data"
    }
   ],
   "source": [
    "fig, ax = plt.subplots(figsize=(12, 8)) # set figure size\n",
    "\n",
    "sns.histplot(df, x=\"NumberOfPolicy\", kde=True, ax=ax)\n",
    "ax.set_xlabel(\"NumberOfPolicy\")\n",
    "ax.set_title(\"NumberOfPolicy\")\n",
    "\n",
    "plt.show()\n"
   ]
  },
  {
   "cell_type": "code",
   "execution_count": 20,
   "id": "bd6069b1",
   "metadata": {},
   "outputs": [
    {
     "data": {
      "image/png": "[encoded data removed]",
      "text/plain": [
       "<Figure size 864x576 with 1 Axes>"
      ]
     },
     "metadata": {
      "needs_background": "light"
     },
     "output_type": "display_data"
    }
   ],
   "source": [
    "fig, ax = plt.subplots(figsize=(12, 8))\n",
    "\n",
    "sns.boxplot(data=df, x='NumberOfPolicy', ax=ax)\n",
    "\n",
    "ax.set_xlabel(\"NumberOfPolicy\")\n",
    "ax.set_title(\"NumberOfPolicy\")\n",
    "\n",
    "plt.show()\n"
   ]
  },
  {
   "cell_type": "code",
   "execution_count": 21,
   "id": "5305e5f9",
   "metadata": {},
   "outputs": [
    {
     "data": {
      "image/png": "[encoded data removed]",
      "text/plain": [
       "<Figure size 864x576 with 1 Axes>"
      ]
     },
     "metadata": {
      "needs_background": "light"
     },
     "output_type": "display_data"
    }
   ],
   "source": [
    "\n",
    "fig, ax = plt.subplots(figsize=(12, 8)) # set figure size\n",
    "\n",
    "sns.histplot(df, x=\"MonthlyIncome\", kde=True, ax=ax)\n",
    "ax.set_xlabel(\"MonthlyIncome\")\n",
    "ax.set_title(\"MonthlyIncome\")\n",
    "\n",
    "plt.show()\n",
    "\n"
   ]
  },
  {
   "cell_type": "code",
   "execution_count": 22,
   "id": "d0fb7671",
   "metadata": {},
   "outputs": [
    {
     "data": {
      "image/png": "[encoded data removed]",
      "text/plain": [
       "<Figure size 864x576 with 1 Axes>"
      ]
     },
     "metadata": {
      "needs_background": "light"
     },
     "output_type": "display_data"
    }
   ],
   "source": [
    "fig, ax = plt.subplots(figsize=(12, 8))\n",
    "\n",
    "sns.boxplot(data=df, x='MonthlyIncome', ax=ax)\n",
    "\n",
    "ax.set_xlabel(\"MonthlyIncome\")\n",
    "ax.set_title(\"MonthlyIncome\")\n",
    "\n",
    "plt.show()\n",
    "\n"
   ]
  },
  {
   "cell_type": "code",
   "execution_count": 23,
   "id": "d8d99ecc",
   "metadata": {},
   "outputs": [
    {
     "data": {
      "image/png": "[encoded data removed]",
      "text/plain": [
       "<Figure size 864x576 with 1 Axes>"
      ]
     },
     "metadata": {
      "needs_background": "light"
     },
     "output_type": "display_data"
    }
   ],
   "source": [
    "\n",
    "fig, ax = plt.subplots(figsize=(12, 8)) # set figure size\n",
    "\n",
    "sns.histplot(df, x=\"ExistingPolicyTenure\", kde=True, ax=ax)\n",
    "ax.set_xlabel(\"ExistingPolicyTenure\")\n",
    "ax.set_title(\"ExistingPolicyTenure\")\n",
    "\n",
    "plt.show()\n"
   ]
  },
  {
   "cell_type": "code",
   "execution_count": 24,
   "id": "a8d631b5",
   "metadata": {},
   "outputs": [
    {
     "data": {
      "image/png": "[encoded data removed]",
      "text/plain": [
       "<Figure size 864x576 with 1 Axes>"
      ]
     },
     "metadata": {
      "needs_background": "light"
     },
     "output_type": "display_data"
    }
   ],
   "source": [
    "fig, ax = plt.subplots(figsize=(12, 8))\n",
    "\n",
    "sns.boxplot(data=df, x='ExistingPolicyTenure', ax=ax)\n",
    "\n",
    "ax.set_xlabel(\"ExistingPolicyTenure\")\n",
    "ax.set_title(\"ExistingPolicyTenure\")\n",
    "\n",
    "plt.show()\n"
   ]
  },
  {
   "cell_type": "code",
   "execution_count": 25,
   "id": "12158138",
   "metadata": {},
   "outputs": [
    {
     "data": {
      "image/png": "[encoded data removed]",
      "text/plain": [
       "<Figure size 864x576 with 1 Axes>"
      ]
     },
     "metadata": {
      "needs_background": "light"
     },
     "output_type": "display_data"
    }
   ],
   "source": [
    "\n",
    "\n",
    "fig, ax = plt.subplots(figsize=(12, 8)) # set figure size\n",
    "\n",
    "sns.histplot(df, x=\"SumAssured\", kde=True, ax=ax)\n",
    "ax.set_xlabel(\"SumAssured\")\n",
    "ax.set_title(\"SumAssured\")\n",
    "\n",
    "plt.show()\n",
    "\n",
    "\n"
   ]
  },
  {
   "cell_type": "code",
   "execution_count": 26,
   "id": "b41a2553",
   "metadata": {},
   "outputs": [
    {
     "data": {
      "text/plain": [
       "count    4.366000e+03\n",
       "mean     6.199997e+05\n",
       "std      2.462348e+05\n",
       "min      1.685360e+05\n",
       "25%      4.394432e+05\n",
       "50%      5.789765e+05\n",
       "75%      7.582360e+05\n",
       "max      1.838496e+06\n",
       "Name: SumAssured, dtype: float64"
      ]
     },
     "execution_count": 26,
     "metadata": {},
     "output_type": "execute_result"
    }
   ],
   "source": [
    "df.SumAssured.describe()"
   ]
  },
  {
   "cell_type": "code",
   "execution_count": 27,
   "id": "70ee4ed0",
   "metadata": {
    "scrolled": true
   },
   "outputs": [
    {
     "data": {
      "image/png": "[encoded data removed]",
      "text/plain": [
       "<Figure size 432x432 with 1 Axes>"
      ]
     },
     "metadata": {
      "needs_background": "light"
     },
     "output_type": "display_data"
    }
   ],
   "source": [
    "fig, ax = plt.subplots(figsize=(6, 6))\n",
    "\n",
    "sns.boxplot(data=df, x='SumAssured', ax=ax)\n",
    "\n",
    "ax.set_xlabel(\"SumAssured\")\n",
    "ax.set_title(\"SumAssured\")\n",
    "\n",
    "plt.show()\n"
   ]
  },
  {
   "cell_type": "code",
   "execution_count": 28,
   "id": "6fc6dbd8",
   "metadata": {},
   "outputs": [
    {
     "data": {
      "image/png": "[encoded data removed]",
      "text/plain": [
       "<Figure size 864x576 with 1 Axes>"
      ]
     },
     "metadata": {
      "needs_background": "light"
     },
     "output_type": "display_data"
    }
   ],
   "source": [
    "\n",
    "fig, ax = plt.subplots(figsize=(12, 8)) # set figure size\n",
    "\n",
    "sns.histplot(df, x=\"CustCareScore\", kde=True, ax=ax)\n",
    "ax.set_xlabel(\"CustCareScore\")\n",
    "ax.set_title(\"CustCareScore\")\n",
    "\n",
    "plt.show()\n",
    "\n"
   ]
  },
  {
   "cell_type": "code",
   "execution_count": 29,
   "id": "74b24641",
   "metadata": {},
   "outputs": [
    {
     "data": {
      "image/png": "[encoded data removed]",
      "text/plain": [
       "<Figure size 864x576 with 1 Axes>"
      ]
     },
     "metadata": {
      "needs_background": "light"
     },
     "output_type": "display_data"
    }
   ],
   "source": [
    "fig, ax = plt.subplots(figsize=(12, 8))\n",
    "\n",
    "sns.boxplot(data=df, x='CustCareScore', ax=ax)\n",
    "\n",
    "ax.set_xlabel(\"CustCareScore\")\n",
    "ax.set_title(\"CustCareScore\")\n",
    "\n",
    "plt.show()\n"
   ]
  },
  {
   "cell_type": "markdown",
   "id": "71cfa0e9",
   "metadata": {},
   "source": [
    "# IMPUTING MISSING VALUE"
   ]
  },
  {
   "cell_type": "code",
   "execution_count": 30,
   "id": "a796988f",
   "metadata": {},
   "outputs": [
    {
     "data": {
      "text/plain": [
       "CustID                    0\n",
       "AgentBonus                0\n",
       "Age                     269\n",
       "CustTenure              226\n",
       "Channel                   0\n",
       "Occupation                0\n",
       "EducationField            0\n",
       "Gender                    0\n",
       "ExistingProdType          0\n",
       "Designation               0\n",
       "NumberOfPolicy           45\n",
       "MaritalStatus             0\n",
       "MonthlyIncome           236\n",
       "Complaint                 0\n",
       "ExistingPolicyTenure    184\n",
       "SumAssured              154\n",
       "Zone                      0\n",
       "PaymentMethod             0\n",
       "LastMonthCalls            0\n",
       "CustCareScore            52\n",
       "dtype: int64"
      ]
     },
     "execution_count": 30,
     "metadata": {},
     "output_type": "execute_result"
    }
   ],
   "source": [
    "df.isnull().sum()"
   ]
  },
  {
   "cell_type": "code",
   "execution_count": 31,
   "id": "32d04f13",
   "metadata": {},
   "outputs": [
    {
     "data": {
      "text/html": [
       "<div>\n",
       "<style scoped>\n",
       "    .dataframe tbody tr th:only-of-type {\n",
       "        vertical-align: middle;\n",
       "    }\n",
       "\n",
       "    .dataframe tbody tr th {\n",
       "        vertical-align: top;\n",
       "    }\n",
       "\n",
       "    .dataframe thead th {\n",
       "        text-align: right;\n",
       "    }\n",
       "</style>\n",
       "<table border=\"1\" class=\"dataframe\">\n",
       "  <thead>\n",
       "    <tr style=\"text-align: right;\">\n",
       "      <th></th>\n",
       "      <th>CustID</th>\n",
       "      <th>AgentBonus</th>\n",
       "      <th>Age</th>\n",
       "      <th>CustTenure</th>\n",
       "      <th>ExistingProdType</th>\n",
       "      <th>NumberOfPolicy</th>\n",
       "      <th>MonthlyIncome</th>\n",
       "      <th>Complaint</th>\n",
       "      <th>ExistingPolicyTenure</th>\n",
       "      <th>SumAssured</th>\n",
       "      <th>LastMonthCalls</th>\n",
       "      <th>CustCareScore</th>\n",
       "    </tr>\n",
       "  </thead>\n",
       "  <tbody>\n",
       "    <tr>\n",
       "      <th>count</th>\n",
       "      <td>4.520000e+03</td>\n",
       "      <td>4520.000000</td>\n",
       "      <td>4251.000000</td>\n",
       "      <td>4294.000000</td>\n",
       "      <td>4520.000000</td>\n",
       "      <td>4475.000000</td>\n",
       "      <td>4284.000000</td>\n",
       "      <td>4520.000000</td>\n",
       "      <td>4336.000000</td>\n",
       "      <td>4.366000e+03</td>\n",
       "      <td>4520.000000</td>\n",
       "      <td>4468.000000</td>\n",
       "    </tr>\n",
       "    <tr>\n",
       "      <th>mean</th>\n",
       "      <td>7.002260e+06</td>\n",
       "      <td>4077.838274</td>\n",
       "      <td>14.494707</td>\n",
       "      <td>14.469027</td>\n",
       "      <td>3.688938</td>\n",
       "      <td>3.565363</td>\n",
       "      <td>22890.309991</td>\n",
       "      <td>0.287168</td>\n",
       "      <td>4.130074</td>\n",
       "      <td>6.199997e+05</td>\n",
       "      <td>4.626991</td>\n",
       "      <td>3.067592</td>\n",
       "    </tr>\n",
       "    <tr>\n",
       "      <th>std</th>\n",
       "      <td>1.304956e+03</td>\n",
       "      <td>1403.321711</td>\n",
       "      <td>9.037629</td>\n",
       "      <td>8.963671</td>\n",
       "      <td>1.015769</td>\n",
       "      <td>1.455926</td>\n",
       "      <td>4885.600757</td>\n",
       "      <td>0.452491</td>\n",
       "      <td>3.346386</td>\n",
       "      <td>2.462348e+05</td>\n",
       "      <td>3.620132</td>\n",
       "      <td>1.382968</td>\n",
       "    </tr>\n",
       "    <tr>\n",
       "      <th>min</th>\n",
       "      <td>7.000000e+06</td>\n",
       "      <td>1605.000000</td>\n",
       "      <td>2.000000</td>\n",
       "      <td>2.000000</td>\n",
       "      <td>1.000000</td>\n",
       "      <td>1.000000</td>\n",
       "      <td>16009.000000</td>\n",
       "      <td>0.000000</td>\n",
       "      <td>1.000000</td>\n",
       "      <td>1.685360e+05</td>\n",
       "      <td>0.000000</td>\n",
       "      <td>1.000000</td>\n",
       "    </tr>\n",
       "    <tr>\n",
       "      <th>25%</th>\n",
       "      <td>7.001130e+06</td>\n",
       "      <td>3027.750000</td>\n",
       "      <td>7.000000</td>\n",
       "      <td>7.000000</td>\n",
       "      <td>3.000000</td>\n",
       "      <td>2.000000</td>\n",
       "      <td>19683.500000</td>\n",
       "      <td>0.000000</td>\n",
       "      <td>2.000000</td>\n",
       "      <td>4.394432e+05</td>\n",
       "      <td>2.000000</td>\n",
       "      <td>2.000000</td>\n",
       "    </tr>\n",
       "    <tr>\n",
       "      <th>50%</th>\n",
       "      <td>7.002260e+06</td>\n",
       "      <td>3911.500000</td>\n",
       "      <td>13.000000</td>\n",
       "      <td>13.000000</td>\n",
       "      <td>4.000000</td>\n",
       "      <td>4.000000</td>\n",
       "      <td>21606.000000</td>\n",
       "      <td>0.000000</td>\n",
       "      <td>3.000000</td>\n",
       "      <td>5.789765e+05</td>\n",
       "      <td>3.000000</td>\n",
       "      <td>3.000000</td>\n",
       "    </tr>\n",
       "    <tr>\n",
       "      <th>75%</th>\n",
       "      <td>7.003389e+06</td>\n",
       "      <td>4867.250000</td>\n",
       "      <td>20.000000</td>\n",
       "      <td>20.000000</td>\n",
       "      <td>4.000000</td>\n",
       "      <td>5.000000</td>\n",
       "      <td>24725.000000</td>\n",
       "      <td>1.000000</td>\n",
       "      <td>6.000000</td>\n",
       "      <td>7.582360e+05</td>\n",
       "      <td>8.000000</td>\n",
       "      <td>4.000000</td>\n",
       "    </tr>\n",
       "    <tr>\n",
       "      <th>max</th>\n",
       "      <td>7.004519e+06</td>\n",
       "      <td>9608.000000</td>\n",
       "      <td>58.000000</td>\n",
       "      <td>57.000000</td>\n",
       "      <td>6.000000</td>\n",
       "      <td>6.000000</td>\n",
       "      <td>38456.000000</td>\n",
       "      <td>1.000000</td>\n",
       "      <td>25.000000</td>\n",
       "      <td>1.838496e+06</td>\n",
       "      <td>18.000000</td>\n",
       "      <td>5.000000</td>\n",
       "    </tr>\n",
       "  </tbody>\n",
       "</table>\n",
       "</div>"
      ],
      "text/plain": [
       "             CustID   AgentBonus          Age   CustTenure  ExistingProdType  \\\n",
       "count  4.520000e+03  4520.000000  4251.000000  4294.000000       4520.000000   \n",
       "mean   7.002260e+06  4077.838274    14.494707    14.469027          3.688938   \n",
       "std    1.304956e+03  1403.321711     9.037629     8.963671          1.015769   \n",
       "min    7.000000e+06  1605.000000     2.000000     2.000000          1.000000   \n",
       "25%    7.001130e+06  3027.750000     7.000000     7.000000          3.000000   \n",
       "50%    7.002260e+06  3911.500000    13.000000    13.000000          4.000000   \n",
       "75%    7.003389e+06  4867.250000    20.000000    20.000000          4.000000   \n",
       "max    7.004519e+06  9608.000000    58.000000    57.000000          6.000000   \n",
       "\n",
       "       NumberOfPolicy  MonthlyIncome    Complaint  ExistingPolicyTenure  \\\n",
       "count     4475.000000    4284.000000  4520.000000           4336.000000   \n",
       "mean         3.565363   22890.309991     0.287168              4.130074   \n",
       "std          1.455926    4885.600757     0.452491              3.346386   \n",
       "min          1.000000   16009.000000     0.000000              1.000000   \n",
       "25%          2.000000   19683.500000     0.000000              2.000000   \n",
       "50%          4.000000   21606.000000     0.000000              3.000000   \n",
       "75%          5.000000   24725.000000     1.000000              6.000000   \n",
       "max          6.000000   38456.000000     1.000000             25.000000   \n",
       "\n",
       "         SumAssured  LastMonthCalls  CustCareScore  \n",
       "count  4.366000e+03     4520.000000    4468.000000  \n",
       "mean   6.199997e+05        4.626991       3.067592  \n",
       "std    2.462348e+05        3.620132       1.382968  \n",
       "min    1.685360e+05        0.000000       1.000000  \n",
       "25%    4.394432e+05        2.000000       2.000000  \n",
       "50%    5.789765e+05        3.000000       3.000000  \n",
       "75%    7.582360e+05        8.000000       4.000000  \n",
       "max    1.838496e+06       18.000000       5.000000  "
      ]
     },
     "execution_count": 31,
     "metadata": {},
     "output_type": "execute_result"
    }
   ],
   "source": [
    "df.describe()"
   ]
  },
  {
   "cell_type": "code",
   "execution_count": 32,
   "id": "c63a5e29",
   "metadata": {},
   "outputs": [],
   "source": [
    "from sklearn.impute import KNNImputer\n",
    "imputer = KNNImputer(n_neighbors=5)\n",
    "#MonthlyIncome,ExistingPolicyTenure,SumAssured,CustCareScore\n",
    "# Impute missing values in the Age column of df\n",
    "df['Age'] = imputer.fit_transform(df[['Age']])\n",
    "df['CustTenure']=imputer.fit_transform(df[['CustTenure']])\n",
    "df['NumberOfPolicy']=imputer.fit_transform(df[['NumberOfPolicy']])\n",
    "df['MonthlyIncome']=imputer.fit_transform(df[['MonthlyIncome']])\n",
    "df['ExistingPolicyTenure']=imputer.fit_transform(df[['ExistingPolicyTenure']])\n",
    "df['SumAssured']=imputer.fit_transform(df[['SumAssured']])\n",
    "df['CustCareScore']=imputer.fit_transform(df[['CustCareScore']])\n",
    "\n",
    "\n"
   ]
  },
  {
   "cell_type": "code",
   "execution_count": 33,
   "id": "d905d827",
   "metadata": {},
   "outputs": [
    {
     "data": {
      "text/plain": [
       "CustID                  0\n",
       "AgentBonus              0\n",
       "Age                     0\n",
       "CustTenure              0\n",
       "Channel                 0\n",
       "Occupation              0\n",
       "EducationField          0\n",
       "Gender                  0\n",
       "ExistingProdType        0\n",
       "Designation             0\n",
       "NumberOfPolicy          0\n",
       "MaritalStatus           0\n",
       "MonthlyIncome           0\n",
       "Complaint               0\n",
       "ExistingPolicyTenure    0\n",
       "SumAssured              0\n",
       "Zone                    0\n",
       "PaymentMethod           0\n",
       "LastMonthCalls          0\n",
       "CustCareScore           0\n",
       "dtype: int64"
      ]
     },
     "execution_count": 33,
     "metadata": {},
     "output_type": "execute_result"
    }
   ],
   "source": [
    "df.isnull().sum()"
   ]
  },
  {
   "cell_type": "code",
   "execution_count": 34,
   "id": "f655e174",
   "metadata": {},
   "outputs": [
    {
     "data": {
      "text/html": [
       "<div>\n",
       "<style scoped>\n",
       "    .dataframe tbody tr th:only-of-type {\n",
       "        vertical-align: middle;\n",
       "    }\n",
       "\n",
       "    .dataframe tbody tr th {\n",
       "        vertical-align: top;\n",
       "    }\n",
       "\n",
       "    .dataframe thead th {\n",
       "        text-align: right;\n",
       "    }\n",
       "</style>\n",
       "<table border=\"1\" class=\"dataframe\">\n",
       "  <thead>\n",
       "    <tr style=\"text-align: right;\">\n",
       "      <th></th>\n",
       "      <th>CustID</th>\n",
       "      <th>AgentBonus</th>\n",
       "      <th>Age</th>\n",
       "      <th>CustTenure</th>\n",
       "      <th>ExistingProdType</th>\n",
       "      <th>NumberOfPolicy</th>\n",
       "      <th>MonthlyIncome</th>\n",
       "      <th>Complaint</th>\n",
       "      <th>ExistingPolicyTenure</th>\n",
       "      <th>SumAssured</th>\n",
       "      <th>LastMonthCalls</th>\n",
       "      <th>CustCareScore</th>\n",
       "    </tr>\n",
       "  </thead>\n",
       "  <tbody>\n",
       "    <tr>\n",
       "      <th>count</th>\n",
       "      <td>4.520000e+03</td>\n",
       "      <td>4520.000000</td>\n",
       "      <td>4520.000000</td>\n",
       "      <td>4520.000000</td>\n",
       "      <td>4520.000000</td>\n",
       "      <td>4520.000000</td>\n",
       "      <td>4520.000000</td>\n",
       "      <td>4520.000000</td>\n",
       "      <td>4520.000000</td>\n",
       "      <td>4.520000e+03</td>\n",
       "      <td>4520.000000</td>\n",
       "      <td>4520.000000</td>\n",
       "    </tr>\n",
       "    <tr>\n",
       "      <th>mean</th>\n",
       "      <td>7.002260e+06</td>\n",
       "      <td>4077.838274</td>\n",
       "      <td>14.494707</td>\n",
       "      <td>14.469027</td>\n",
       "      <td>3.688938</td>\n",
       "      <td>3.565363</td>\n",
       "      <td>22890.309991</td>\n",
       "      <td>0.287168</td>\n",
       "      <td>4.130074</td>\n",
       "      <td>6.199997e+05</td>\n",
       "      <td>4.626991</td>\n",
       "      <td>3.067592</td>\n",
       "    </tr>\n",
       "    <tr>\n",
       "      <th>std</th>\n",
       "      <td>1.304956e+03</td>\n",
       "      <td>1403.321711</td>\n",
       "      <td>8.764513</td>\n",
       "      <td>8.736655</td>\n",
       "      <td>1.015769</td>\n",
       "      <td>1.448659</td>\n",
       "      <td>4756.317536</td>\n",
       "      <td>0.452491</td>\n",
       "      <td>3.277551</td>\n",
       "      <td>2.420028e+05</td>\n",
       "      <td>3.620132</td>\n",
       "      <td>1.374988</td>\n",
       "    </tr>\n",
       "    <tr>\n",
       "      <th>min</th>\n",
       "      <td>7.000000e+06</td>\n",
       "      <td>1605.000000</td>\n",
       "      <td>2.000000</td>\n",
       "      <td>2.000000</td>\n",
       "      <td>1.000000</td>\n",
       "      <td>1.000000</td>\n",
       "      <td>16009.000000</td>\n",
       "      <td>0.000000</td>\n",
       "      <td>1.000000</td>\n",
       "      <td>1.685360e+05</td>\n",
       "      <td>0.000000</td>\n",
       "      <td>1.000000</td>\n",
       "    </tr>\n",
       "    <tr>\n",
       "      <th>25%</th>\n",
       "      <td>7.001130e+06</td>\n",
       "      <td>3027.750000</td>\n",
       "      <td>8.000000</td>\n",
       "      <td>8.000000</td>\n",
       "      <td>3.000000</td>\n",
       "      <td>2.000000</td>\n",
       "      <td>19858.000000</td>\n",
       "      <td>0.000000</td>\n",
       "      <td>2.000000</td>\n",
       "      <td>4.444762e+05</td>\n",
       "      <td>2.000000</td>\n",
       "      <td>2.000000</td>\n",
       "    </tr>\n",
       "    <tr>\n",
       "      <th>50%</th>\n",
       "      <td>7.002260e+06</td>\n",
       "      <td>3911.500000</td>\n",
       "      <td>14.000000</td>\n",
       "      <td>14.000000</td>\n",
       "      <td>4.000000</td>\n",
       "      <td>4.000000</td>\n",
       "      <td>21877.000000</td>\n",
       "      <td>0.000000</td>\n",
       "      <td>3.000000</td>\n",
       "      <td>5.900125e+05</td>\n",
       "      <td>3.000000</td>\n",
       "      <td>3.000000</td>\n",
       "    </tr>\n",
       "    <tr>\n",
       "      <th>75%</th>\n",
       "      <td>7.003389e+06</td>\n",
       "      <td>4867.250000</td>\n",
       "      <td>19.000000</td>\n",
       "      <td>19.000000</td>\n",
       "      <td>4.000000</td>\n",
       "      <td>5.000000</td>\n",
       "      <td>24531.750000</td>\n",
       "      <td>1.000000</td>\n",
       "      <td>5.000000</td>\n",
       "      <td>7.500105e+05</td>\n",
       "      <td>8.000000</td>\n",
       "      <td>4.000000</td>\n",
       "    </tr>\n",
       "    <tr>\n",
       "      <th>max</th>\n",
       "      <td>7.004519e+06</td>\n",
       "      <td>9608.000000</td>\n",
       "      <td>58.000000</td>\n",
       "      <td>57.000000</td>\n",
       "      <td>6.000000</td>\n",
       "      <td>6.000000</td>\n",
       "      <td>38456.000000</td>\n",
       "      <td>1.000000</td>\n",
       "      <td>25.000000</td>\n",
       "      <td>1.838496e+06</td>\n",
       "      <td>18.000000</td>\n",
       "      <td>5.000000</td>\n",
       "    </tr>\n",
       "  </tbody>\n",
       "</table>\n",
       "</div>"
      ],
      "text/plain": [
       "             CustID   AgentBonus          Age   CustTenure  ExistingProdType  \\\n",
       "count  4.520000e+03  4520.000000  4520.000000  4520.000000       4520.000000   \n",
       "mean   7.002260e+06  4077.838274    14.494707    14.469027          3.688938   \n",
       "std    1.304956e+03  1403.321711     8.764513     8.736655          1.015769   \n",
       "min    7.000000e+06  1605.000000     2.000000     2.000000          1.000000   \n",
       "25%    7.001130e+06  3027.750000     8.000000     8.000000          3.000000   \n",
       "50%    7.002260e+06  3911.500000    14.000000    14.000000          4.000000   \n",
       "75%    7.003389e+06  4867.250000    19.000000    19.000000          4.000000   \n",
       "max    7.004519e+06  9608.000000    58.000000    57.000000          6.000000   \n",
       "\n",
       "       NumberOfPolicy  MonthlyIncome    Complaint  ExistingPolicyTenure  \\\n",
       "count     4520.000000    4520.000000  4520.000000           4520.000000   \n",
       "mean         3.565363   22890.309991     0.287168              4.130074   \n",
       "std          1.448659    4756.317536     0.452491              3.277551   \n",
       "min          1.000000   16009.000000     0.000000              1.000000   \n",
       "25%          2.000000   19858.000000     0.000000              2.000000   \n",
       "50%          4.000000   21877.000000     0.000000              3.000000   \n",
       "75%          5.000000   24531.750000     1.000000              5.000000   \n",
       "max          6.000000   38456.000000     1.000000             25.000000   \n",
       "\n",
       "         SumAssured  LastMonthCalls  CustCareScore  \n",
       "count  4.520000e+03     4520.000000    4520.000000  \n",
       "mean   6.199997e+05        4.626991       3.067592  \n",
       "std    2.420028e+05        3.620132       1.374988  \n",
       "min    1.685360e+05        0.000000       1.000000  \n",
       "25%    4.444762e+05        2.000000       2.000000  \n",
       "50%    5.900125e+05        3.000000       3.000000  \n",
       "75%    7.500105e+05        8.000000       4.000000  \n",
       "max    1.838496e+06       18.000000       5.000000  "
      ]
     },
     "execution_count": 34,
     "metadata": {},
     "output_type": "execute_result"
    }
   ],
   "source": [
    "df.describe()"
   ]
  },
  {
   "cell_type": "code",
   "execution_count": 35,
   "id": "2155f62a",
   "metadata": {},
   "outputs": [
    {
     "data": {
      "text/plain": [
       "Index(['CustID', 'AgentBonus', 'Age', 'CustTenure', 'Channel', 'Occupation',\n",
       "       'EducationField', 'Gender', 'ExistingProdType', 'Designation',\n",
       "       'NumberOfPolicy', 'MaritalStatus', 'MonthlyIncome', 'Complaint',\n",
       "       'ExistingPolicyTenure', 'SumAssured', 'Zone', 'PaymentMethod',\n",
       "       'LastMonthCalls', 'CustCareScore'],\n",
       "      dtype='object')"
      ]
     },
     "execution_count": 35,
     "metadata": {},
     "output_type": "execute_result"
    }
   ],
   "source": [
    "df.columns"
   ]
  },
  {
   "cell_type": "markdown",
   "id": "ceb2826e",
   "metadata": {},
   "source": [
    "for col in df.columns:\n",
    "    plt.boxplot(df[col])\n",
    "    plt.title(col)\n",
    "    plt.show()"
   ]
  },
  {
   "cell_type": "code",
   "execution_count": 36,
   "id": "4c0c0afa",
   "metadata": {},
   "outputs": [
    {
     "data": {
      "image/png": "[encoded data removed]",
      "text/plain": [
       "<Figure size 432x288 with 1 Axes>"
      ]
     },
     "metadata": {
      "needs_background": "light"
     },
     "output_type": "display_data"
    },
    {
     "data": {
      "image/png": "[encoded data removed]",
      "text/plain": [
       "<Figure size 432x288 with 1 Axes>"
      ]
     },
     "metadata": {
      "needs_background": "light"
     },
     "output_type": "display_data"
    },
    {
     "data": {
      "image/png": "[encoded data removed]",
      "text/plain": [
       "<Figure size 432x288 with 1 Axes>"
      ]
     },
     "metadata": {
      "needs_background": "light"
     },
     "output_type": "display_data"
    },
    {
     "data": {
      "image/png": "[encoded data removed]",
      "text/plain": [
       "<Figure size 432x288 with 1 Axes>"
      ]
     },
     "metadata": {
      "needs_background": "light"
     },
     "output_type": "display_data"
    },
    {
     "data": {
      "image/png": "[encoded data removed]",
      "text/plain": [
       "<Figure size 432x288 with 1 Axes>"
      ]
     },
     "metadata": {
      "needs_background": "light"
     },
     "output_type": "display_data"
    },
    {
     "data": {
      "image/png": "[encoded data removed]",
      "text/plain": [
       "<Figure size 432x288 with 1 Axes>"
      ]
     },
     "metadata": {
      "needs_background": "light"
     },
     "output_type": "display_data"
    },
    {
     "data": {
      "image/png": "[encoded data removed]",
      "text/plain": [
       "<Figure size 432x288 with 1 Axes>"
      ]
     },
     "metadata": {
      "needs_background": "light"
     },
     "output_type": "display_data"
    },
    {
     "data": {
      "image/png": "[encoded data removed]",
      "text/plain": [
       "<Figure size 432x288 with 1 Axes>"
      ]
     },
     "metadata": {
      "needs_background": "light"
     },
     "output_type": "display_data"
    },
    {
     "data": {
      "image/png": "[encoded data removed]",
      "text/plain": [
       "<Figure size 432x288 with 1 Axes>"
      ]
     },
     "metadata": {
      "needs_background": "light"
     },
     "output_type": "display_data"
    },
    {
     "data": {
      "image/png": "[encoded data removed]",
      "text/plain": [
       "<Figure size 432x288 with 1 Axes>"
      ]
     },
     "metadata": {
      "needs_background": "light"
     },
     "output_type": "display_data"
    },
    {
     "data": {
      "image/png": "[encoded data removed]",
      "text/plain": [
       "<Figure size 432x288 with 1 Axes>"
      ]
     },
     "metadata": {
      "needs_background": "light"
     },
     "output_type": "display_data"
    },
    {
     "data": {
      "image/png": "[encoded data removed]",
      "text/plain": [
       "<Figure size 432x288 with 1 Axes>"
      ]
     },
     "metadata": {
      "needs_background": "light"
     },
     "output_type": "display_data"
    }
   ],
   "source": [
    "for col in df.columns:\n",
    "    if df[col].dtype in ['int64', 'float64']: # check if data is numeric\n",
    "        plt.boxplot(df[col])\n",
    "        plt.title(col)\n",
    "        plt.show()\n"
   ]
  },
  {
   "cell_type": "markdown",
   "id": "9b76ff17",
   "metadata": {},
   "source": [
    "# Converting object into Numerical "
   ]
  },
  {
   "cell_type": "code",
   "execution_count": 37,
   "id": "e57a28f5",
   "metadata": {},
   "outputs": [
    {
     "data": {
      "text/html": [
       "<div>\n",
       "<style scoped>\n",
       "    .dataframe tbody tr th:only-of-type {\n",
       "        vertical-align: middle;\n",
       "    }\n",
       "\n",
       "    .dataframe tbody tr th {\n",
       "        vertical-align: top;\n",
       "    }\n",
       "\n",
       "    .dataframe thead th {\n",
       "        text-align: right;\n",
       "    }\n",
       "</style>\n",
       "<table border=\"1\" class=\"dataframe\">\n",
       "  <thead>\n",
       "    <tr style=\"text-align: right;\">\n",
       "      <th></th>\n",
       "      <th>CustID</th>\n",
       "      <th>AgentBonus</th>\n",
       "      <th>Age</th>\n",
       "      <th>CustTenure</th>\n",
       "      <th>Channel</th>\n",
       "      <th>Occupation</th>\n",
       "      <th>EducationField</th>\n",
       "      <th>Gender</th>\n",
       "      <th>ExistingProdType</th>\n",
       "      <th>Designation</th>\n",
       "      <th>NumberOfPolicy</th>\n",
       "      <th>MaritalStatus</th>\n",
       "      <th>MonthlyIncome</th>\n",
       "      <th>Complaint</th>\n",
       "      <th>ExistingPolicyTenure</th>\n",
       "      <th>SumAssured</th>\n",
       "      <th>Zone</th>\n",
       "      <th>PaymentMethod</th>\n",
       "      <th>LastMonthCalls</th>\n",
       "      <th>CustCareScore</th>\n",
       "    </tr>\n",
       "  </thead>\n",
       "  <tbody>\n",
       "    <tr>\n",
       "      <th>0</th>\n",
       "      <td>7000000</td>\n",
       "      <td>4409</td>\n",
       "      <td>22.0</td>\n",
       "      <td>4.000000</td>\n",
       "      <td>Agent</td>\n",
       "      <td>Salaried</td>\n",
       "      <td>Graduate</td>\n",
       "      <td>Female</td>\n",
       "      <td>3</td>\n",
       "      <td>Manager</td>\n",
       "      <td>2.0</td>\n",
       "      <td>Single</td>\n",
       "      <td>20993.0</td>\n",
       "      <td>1</td>\n",
       "      <td>2.0</td>\n",
       "      <td>806761.000000</td>\n",
       "      <td>North</td>\n",
       "      <td>Half Yearly</td>\n",
       "      <td>5</td>\n",
       "      <td>2.0</td>\n",
       "    </tr>\n",
       "    <tr>\n",
       "      <th>1</th>\n",
       "      <td>7000001</td>\n",
       "      <td>2214</td>\n",
       "      <td>11.0</td>\n",
       "      <td>2.000000</td>\n",
       "      <td>Third Party Partner</td>\n",
       "      <td>Salaried</td>\n",
       "      <td>Graduate</td>\n",
       "      <td>Male</td>\n",
       "      <td>4</td>\n",
       "      <td>Manager</td>\n",
       "      <td>4.0</td>\n",
       "      <td>Divorced</td>\n",
       "      <td>20130.0</td>\n",
       "      <td>0</td>\n",
       "      <td>3.0</td>\n",
       "      <td>294502.000000</td>\n",
       "      <td>North</td>\n",
       "      <td>Yearly</td>\n",
       "      <td>7</td>\n",
       "      <td>3.0</td>\n",
       "    </tr>\n",
       "    <tr>\n",
       "      <th>2</th>\n",
       "      <td>7000002</td>\n",
       "      <td>4273</td>\n",
       "      <td>26.0</td>\n",
       "      <td>4.000000</td>\n",
       "      <td>Agent</td>\n",
       "      <td>Free Lancer</td>\n",
       "      <td>Post Graduate</td>\n",
       "      <td>Male</td>\n",
       "      <td>4</td>\n",
       "      <td>Exe</td>\n",
       "      <td>3.0</td>\n",
       "      <td>Unmarried</td>\n",
       "      <td>17090.0</td>\n",
       "      <td>1</td>\n",
       "      <td>2.0</td>\n",
       "      <td>619999.699267</td>\n",
       "      <td>North</td>\n",
       "      <td>Yearly</td>\n",
       "      <td>0</td>\n",
       "      <td>3.0</td>\n",
       "    </tr>\n",
       "    <tr>\n",
       "      <th>3</th>\n",
       "      <td>7000003</td>\n",
       "      <td>1791</td>\n",
       "      <td>11.0</td>\n",
       "      <td>14.469027</td>\n",
       "      <td>Third Party Partner</td>\n",
       "      <td>Salaried</td>\n",
       "      <td>Graduate</td>\n",
       "      <td>Fe male</td>\n",
       "      <td>3</td>\n",
       "      <td>Executive</td>\n",
       "      <td>3.0</td>\n",
       "      <td>Divorced</td>\n",
       "      <td>17909.0</td>\n",
       "      <td>1</td>\n",
       "      <td>2.0</td>\n",
       "      <td>268635.000000</td>\n",
       "      <td>West</td>\n",
       "      <td>Half Yearly</td>\n",
       "      <td>0</td>\n",
       "      <td>5.0</td>\n",
       "    </tr>\n",
       "    <tr>\n",
       "      <th>4</th>\n",
       "      <td>7000004</td>\n",
       "      <td>2955</td>\n",
       "      <td>6.0</td>\n",
       "      <td>14.469027</td>\n",
       "      <td>Agent</td>\n",
       "      <td>Small Business</td>\n",
       "      <td>UG</td>\n",
       "      <td>Male</td>\n",
       "      <td>3</td>\n",
       "      <td>Executive</td>\n",
       "      <td>4.0</td>\n",
       "      <td>Divorced</td>\n",
       "      <td>18468.0</td>\n",
       "      <td>0</td>\n",
       "      <td>4.0</td>\n",
       "      <td>366405.000000</td>\n",
       "      <td>West</td>\n",
       "      <td>Half Yearly</td>\n",
       "      <td>2</td>\n",
       "      <td>5.0</td>\n",
       "    </tr>\n",
       "  </tbody>\n",
       "</table>\n",
       "</div>"
      ],
      "text/plain": [
       "    CustID  AgentBonus   Age  CustTenure              Channel      Occupation  \\\n",
       "0  7000000        4409  22.0    4.000000                Agent        Salaried   \n",
       "1  7000001        2214  11.0    2.000000  Third Party Partner        Salaried   \n",
       "2  7000002        4273  26.0    4.000000                Agent     Free Lancer   \n",
       "3  7000003        1791  11.0   14.469027  Third Party Partner        Salaried   \n",
       "4  7000004        2955   6.0   14.469027                Agent  Small Business   \n",
       "\n",
       "  EducationField   Gender  ExistingProdType Designation  NumberOfPolicy  \\\n",
       "0       Graduate   Female                 3     Manager             2.0   \n",
       "1       Graduate     Male                 4     Manager             4.0   \n",
       "2  Post Graduate     Male                 4         Exe             3.0   \n",
       "3       Graduate  Fe male                 3   Executive             3.0   \n",
       "4             UG     Male                 3   Executive             4.0   \n",
       "\n",
       "  MaritalStatus  MonthlyIncome  Complaint  ExistingPolicyTenure  \\\n",
       "0        Single        20993.0          1                   2.0   \n",
       "1      Divorced        20130.0          0                   3.0   \n",
       "2     Unmarried        17090.0          1                   2.0   \n",
       "3      Divorced        17909.0          1                   2.0   \n",
       "4      Divorced        18468.0          0                   4.0   \n",
       "\n",
       "      SumAssured   Zone PaymentMethod  LastMonthCalls  CustCareScore  \n",
       "0  806761.000000  North   Half Yearly               5            2.0  \n",
       "1  294502.000000  North        Yearly               7            3.0  \n",
       "2  619999.699267  North        Yearly               0            3.0  \n",
       "3  268635.000000   West   Half Yearly               0            5.0  \n",
       "4  366405.000000   West   Half Yearly               2            5.0  "
      ]
     },
     "execution_count": 37,
     "metadata": {},
     "output_type": "execute_result"
    }
   ],
   "source": [
    "df.head()"
   ]
  },
  {
   "cell_type": "code",
   "execution_count": 38,
   "id": "c300f16b",
   "metadata": {},
   "outputs": [
    {
     "data": {
      "text/plain": [
       "Agent                  3194\n",
       "Third Party Partner     858\n",
       "Online                  468\n",
       "Name: Channel, dtype: int64"
      ]
     },
     "execution_count": 38,
     "metadata": {},
     "output_type": "execute_result"
    }
   ],
   "source": [
    "df.Channel.value_counts()"
   ]
  },
  {
   "cell_type": "code",
   "execution_count": 39,
   "id": "ab141aca",
   "metadata": {},
   "outputs": [
    {
     "data": {
      "text/html": [
       "<div>\n",
       "<style scoped>\n",
       "    .dataframe tbody tr th:only-of-type {\n",
       "        vertical-align: middle;\n",
       "    }\n",
       "\n",
       "    .dataframe tbody tr th {\n",
       "        vertical-align: top;\n",
       "    }\n",
       "\n",
       "    .dataframe thead th {\n",
       "        text-align: right;\n",
       "    }\n",
       "</style>\n",
       "<table border=\"1\" class=\"dataframe\">\n",
       "  <thead>\n",
       "    <tr style=\"text-align: right;\">\n",
       "      <th></th>\n",
       "      <th>Agent</th>\n",
       "      <th>Online</th>\n",
       "      <th>Third Party Partner</th>\n",
       "    </tr>\n",
       "  </thead>\n",
       "  <tbody>\n",
       "    <tr>\n",
       "      <th>0</th>\n",
       "      <td>1</td>\n",
       "      <td>0</td>\n",
       "      <td>0</td>\n",
       "    </tr>\n",
       "    <tr>\n",
       "      <th>1</th>\n",
       "      <td>0</td>\n",
       "      <td>0</td>\n",
       "      <td>1</td>\n",
       "    </tr>\n",
       "    <tr>\n",
       "      <th>2</th>\n",
       "      <td>1</td>\n",
       "      <td>0</td>\n",
       "      <td>0</td>\n",
       "    </tr>\n",
       "    <tr>\n",
       "      <th>3</th>\n",
       "      <td>0</td>\n",
       "      <td>0</td>\n",
       "      <td>1</td>\n",
       "    </tr>\n",
       "    <tr>\n",
       "      <th>4</th>\n",
       "      <td>1</td>\n",
       "      <td>0</td>\n",
       "      <td>0</td>\n",
       "    </tr>\n",
       "    <tr>\n",
       "      <th>...</th>\n",
       "      <td>...</td>\n",
       "      <td>...</td>\n",
       "      <td>...</td>\n",
       "    </tr>\n",
       "    <tr>\n",
       "      <th>4515</th>\n",
       "      <td>1</td>\n",
       "      <td>0</td>\n",
       "      <td>0</td>\n",
       "    </tr>\n",
       "    <tr>\n",
       "      <th>4516</th>\n",
       "      <td>1</td>\n",
       "      <td>0</td>\n",
       "      <td>0</td>\n",
       "    </tr>\n",
       "    <tr>\n",
       "      <th>4517</th>\n",
       "      <td>1</td>\n",
       "      <td>0</td>\n",
       "      <td>0</td>\n",
       "    </tr>\n",
       "    <tr>\n",
       "      <th>4518</th>\n",
       "      <td>0</td>\n",
       "      <td>1</td>\n",
       "      <td>0</td>\n",
       "    </tr>\n",
       "    <tr>\n",
       "      <th>4519</th>\n",
       "      <td>1</td>\n",
       "      <td>0</td>\n",
       "      <td>0</td>\n",
       "    </tr>\n",
       "  </tbody>\n",
       "</table>\n",
       "<p>4520 rows × 3 columns</p>\n",
       "</div>"
      ],
      "text/plain": [
       "      Agent  Online  Third Party Partner\n",
       "0         1       0                    0\n",
       "1         0       0                    1\n",
       "2         1       0                    0\n",
       "3         0       0                    1\n",
       "4         1       0                    0\n",
       "...     ...     ...                  ...\n",
       "4515      1       0                    0\n",
       "4516      1       0                    0\n",
       "4517      1       0                    0\n",
       "4518      0       1                    0\n",
       "4519      1       0                    0\n",
       "\n",
       "[4520 rows x 3 columns]"
      ]
     },
     "execution_count": 39,
     "metadata": {},
     "output_type": "execute_result"
    }
   ],
   "source": [
    "pd.get_dummies(df['Channel'])"
   ]
  },
  {
   "cell_type": "code",
   "execution_count": 40,
   "id": "4de93a30",
   "metadata": {},
   "outputs": [],
   "source": [
    "df = pd.concat([df.drop('Channel', axis=1), pd.get_dummies(df['Channel'])], axis=1)\n"
   ]
  },
  {
   "cell_type": "code",
   "execution_count": 41,
   "id": "c414ac43",
   "metadata": {},
   "outputs": [
    {
     "data": {
      "text/plain": [
       "Salaried           2192\n",
       "Small Business     1918\n",
       "Large Business      255\n",
       "Laarge Business     153\n",
       "Free Lancer           2\n",
       "Name: Occupation, dtype: int64"
      ]
     },
     "execution_count": 41,
     "metadata": {},
     "output_type": "execute_result"
    }
   ],
   "source": [
    "df.Occupation.value_counts()"
   ]
  },
  {
   "cell_type": "code",
   "execution_count": 42,
   "id": "d4108277",
   "metadata": {},
   "outputs": [],
   "source": [
    "df['Occupation'] = df['Occupation'].replace('Laarge Business', 'Large Business')\n"
   ]
  },
  {
   "cell_type": "code",
   "execution_count": 43,
   "id": "af220a2e",
   "metadata": {},
   "outputs": [
    {
     "data": {
      "text/plain": [
       "Salaried          2192\n",
       "Small Business    1918\n",
       "Large Business     408\n",
       "Free Lancer          2\n",
       "Name: Occupation, dtype: int64"
      ]
     },
     "execution_count": 43,
     "metadata": {},
     "output_type": "execute_result"
    }
   ],
   "source": [
    "df.Occupation.value_counts()"
   ]
  },
  {
   "cell_type": "code",
   "execution_count": 44,
   "id": "a951660a",
   "metadata": {},
   "outputs": [],
   "source": [
    "df = pd.concat([df.drop('Occupation', axis=1), pd.get_dummies(df['Occupation'])], axis=1)\n"
   ]
  },
  {
   "cell_type": "code",
   "execution_count": 45,
   "id": "ce1c8325",
   "metadata": {},
   "outputs": [
    {
     "data": {
      "text/html": [
       "<div>\n",
       "<style scoped>\n",
       "    .dataframe tbody tr th:only-of-type {\n",
       "        vertical-align: middle;\n",
       "    }\n",
       "\n",
       "    .dataframe tbody tr th {\n",
       "        vertical-align: top;\n",
       "    }\n",
       "\n",
       "    .dataframe thead th {\n",
       "        text-align: right;\n",
       "    }\n",
       "</style>\n",
       "<table border=\"1\" class=\"dataframe\">\n",
       "  <thead>\n",
       "    <tr style=\"text-align: right;\">\n",
       "      <th></th>\n",
       "      <th>CustID</th>\n",
       "      <th>AgentBonus</th>\n",
       "      <th>Age</th>\n",
       "      <th>CustTenure</th>\n",
       "      <th>Channel</th>\n",
       "      <th>Occupation</th>\n",
       "      <th>EducationField</th>\n",
       "      <th>Gender</th>\n",
       "      <th>ExistingProdType</th>\n",
       "      <th>Designation</th>\n",
       "      <th>NumberOfPolicy</th>\n",
       "      <th>MaritalStatus</th>\n",
       "      <th>MonthlyIncome</th>\n",
       "      <th>Complaint</th>\n",
       "      <th>ExistingPolicyTenure</th>\n",
       "      <th>SumAssured</th>\n",
       "      <th>Zone</th>\n",
       "      <th>PaymentMethod</th>\n",
       "      <th>LastMonthCalls</th>\n",
       "      <th>CustCareScore</th>\n",
       "    </tr>\n",
       "  </thead>\n",
       "  <tbody>\n",
       "    <tr>\n",
       "      <th>0</th>\n",
       "      <td>7000000</td>\n",
       "      <td>4409</td>\n",
       "      <td>22.0</td>\n",
       "      <td>4.0</td>\n",
       "      <td>Agent</td>\n",
       "      <td>Salaried</td>\n",
       "      <td>Graduate</td>\n",
       "      <td>Female</td>\n",
       "      <td>3</td>\n",
       "      <td>Manager</td>\n",
       "      <td>2.0</td>\n",
       "      <td>Single</td>\n",
       "      <td>20993.0</td>\n",
       "      <td>1</td>\n",
       "      <td>2.0</td>\n",
       "      <td>806761.0</td>\n",
       "      <td>North</td>\n",
       "      <td>Half Yearly</td>\n",
       "      <td>5</td>\n",
       "      <td>2.0</td>\n",
       "    </tr>\n",
       "    <tr>\n",
       "      <th>1</th>\n",
       "      <td>7000001</td>\n",
       "      <td>2214</td>\n",
       "      <td>11.0</td>\n",
       "      <td>2.0</td>\n",
       "      <td>Third Party Partner</td>\n",
       "      <td>Salaried</td>\n",
       "      <td>Graduate</td>\n",
       "      <td>Male</td>\n",
       "      <td>4</td>\n",
       "      <td>Manager</td>\n",
       "      <td>4.0</td>\n",
       "      <td>Divorced</td>\n",
       "      <td>20130.0</td>\n",
       "      <td>0</td>\n",
       "      <td>3.0</td>\n",
       "      <td>294502.0</td>\n",
       "      <td>North</td>\n",
       "      <td>Yearly</td>\n",
       "      <td>7</td>\n",
       "      <td>3.0</td>\n",
       "    </tr>\n",
       "    <tr>\n",
       "      <th>2</th>\n",
       "      <td>7000002</td>\n",
       "      <td>4273</td>\n",
       "      <td>26.0</td>\n",
       "      <td>4.0</td>\n",
       "      <td>Agent</td>\n",
       "      <td>Free Lancer</td>\n",
       "      <td>Post Graduate</td>\n",
       "      <td>Male</td>\n",
       "      <td>4</td>\n",
       "      <td>Exe</td>\n",
       "      <td>3.0</td>\n",
       "      <td>Unmarried</td>\n",
       "      <td>17090.0</td>\n",
       "      <td>1</td>\n",
       "      <td>2.0</td>\n",
       "      <td>NaN</td>\n",
       "      <td>North</td>\n",
       "      <td>Yearly</td>\n",
       "      <td>0</td>\n",
       "      <td>3.0</td>\n",
       "    </tr>\n",
       "    <tr>\n",
       "      <th>3</th>\n",
       "      <td>7000003</td>\n",
       "      <td>1791</td>\n",
       "      <td>11.0</td>\n",
       "      <td>NaN</td>\n",
       "      <td>Third Party Partner</td>\n",
       "      <td>Salaried</td>\n",
       "      <td>Graduate</td>\n",
       "      <td>Fe male</td>\n",
       "      <td>3</td>\n",
       "      <td>Executive</td>\n",
       "      <td>3.0</td>\n",
       "      <td>Divorced</td>\n",
       "      <td>17909.0</td>\n",
       "      <td>1</td>\n",
       "      <td>2.0</td>\n",
       "      <td>268635.0</td>\n",
       "      <td>West</td>\n",
       "      <td>Half Yearly</td>\n",
       "      <td>0</td>\n",
       "      <td>5.0</td>\n",
       "    </tr>\n",
       "    <tr>\n",
       "      <th>4</th>\n",
       "      <td>7000004</td>\n",
       "      <td>2955</td>\n",
       "      <td>6.0</td>\n",
       "      <td>NaN</td>\n",
       "      <td>Agent</td>\n",
       "      <td>Small Business</td>\n",
       "      <td>UG</td>\n",
       "      <td>Male</td>\n",
       "      <td>3</td>\n",
       "      <td>Executive</td>\n",
       "      <td>4.0</td>\n",
       "      <td>Divorced</td>\n",
       "      <td>18468.0</td>\n",
       "      <td>0</td>\n",
       "      <td>4.0</td>\n",
       "      <td>366405.0</td>\n",
       "      <td>West</td>\n",
       "      <td>Half Yearly</td>\n",
       "      <td>2</td>\n",
       "      <td>5.0</td>\n",
       "    </tr>\n",
       "    <tr>\n",
       "      <th>...</th>\n",
       "      <td>...</td>\n",
       "      <td>...</td>\n",
       "      <td>...</td>\n",
       "      <td>...</td>\n",
       "      <td>...</td>\n",
       "      <td>...</td>\n",
       "      <td>...</td>\n",
       "      <td>...</td>\n",
       "      <td>...</td>\n",
       "      <td>...</td>\n",
       "      <td>...</td>\n",
       "      <td>...</td>\n",
       "      <td>...</td>\n",
       "      <td>...</td>\n",
       "      <td>...</td>\n",
       "      <td>...</td>\n",
       "      <td>...</td>\n",
       "      <td>...</td>\n",
       "      <td>...</td>\n",
       "      <td>...</td>\n",
       "    </tr>\n",
       "    <tr>\n",
       "      <th>4515</th>\n",
       "      <td>7004515</td>\n",
       "      <td>3953</td>\n",
       "      <td>4.0</td>\n",
       "      <td>8.0</td>\n",
       "      <td>Agent</td>\n",
       "      <td>Small Business</td>\n",
       "      <td>Graduate</td>\n",
       "      <td>Male</td>\n",
       "      <td>4</td>\n",
       "      <td>Senior Manager</td>\n",
       "      <td>2.0</td>\n",
       "      <td>Single</td>\n",
       "      <td>26355.0</td>\n",
       "      <td>0</td>\n",
       "      <td>2.0</td>\n",
       "      <td>636473.0</td>\n",
       "      <td>West</td>\n",
       "      <td>Yearly</td>\n",
       "      <td>9</td>\n",
       "      <td>1.0</td>\n",
       "    </tr>\n",
       "    <tr>\n",
       "      <th>4516</th>\n",
       "      <td>7004516</td>\n",
       "      <td>2939</td>\n",
       "      <td>9.0</td>\n",
       "      <td>9.0</td>\n",
       "      <td>Agent</td>\n",
       "      <td>Salaried</td>\n",
       "      <td>Under Graduate</td>\n",
       "      <td>Female</td>\n",
       "      <td>2</td>\n",
       "      <td>Executive</td>\n",
       "      <td>2.0</td>\n",
       "      <td>Married</td>\n",
       "      <td>20991.0</td>\n",
       "      <td>0</td>\n",
       "      <td>3.0</td>\n",
       "      <td>296813.0</td>\n",
       "      <td>North</td>\n",
       "      <td>Yearly</td>\n",
       "      <td>1</td>\n",
       "      <td>3.0</td>\n",
       "    </tr>\n",
       "    <tr>\n",
       "      <th>4517</th>\n",
       "      <td>7004517</td>\n",
       "      <td>3792</td>\n",
       "      <td>23.0</td>\n",
       "      <td>23.0</td>\n",
       "      <td>Agent</td>\n",
       "      <td>Salaried</td>\n",
       "      <td>Engineer</td>\n",
       "      <td>Female</td>\n",
       "      <td>5</td>\n",
       "      <td>AVP</td>\n",
       "      <td>5.0</td>\n",
       "      <td>Single</td>\n",
       "      <td>NaN</td>\n",
       "      <td>0</td>\n",
       "      <td>2.0</td>\n",
       "      <td>667371.0</td>\n",
       "      <td>North</td>\n",
       "      <td>Half Yearly</td>\n",
       "      <td>4</td>\n",
       "      <td>1.0</td>\n",
       "    </tr>\n",
       "    <tr>\n",
       "      <th>4518</th>\n",
       "      <td>7004518</td>\n",
       "      <td>4816</td>\n",
       "      <td>10.0</td>\n",
       "      <td>10.0</td>\n",
       "      <td>Online</td>\n",
       "      <td>Small Business</td>\n",
       "      <td>Graduate</td>\n",
       "      <td>Female</td>\n",
       "      <td>4</td>\n",
       "      <td>Executive</td>\n",
       "      <td>2.0</td>\n",
       "      <td>Single</td>\n",
       "      <td>20068.0</td>\n",
       "      <td>0</td>\n",
       "      <td>6.0</td>\n",
       "      <td>943999.0</td>\n",
       "      <td>West</td>\n",
       "      <td>Half Yearly</td>\n",
       "      <td>1</td>\n",
       "      <td>5.0</td>\n",
       "    </tr>\n",
       "    <tr>\n",
       "      <th>4519</th>\n",
       "      <td>7004519</td>\n",
       "      <td>4764</td>\n",
       "      <td>14.0</td>\n",
       "      <td>10.0</td>\n",
       "      <td>Agent</td>\n",
       "      <td>Salaried</td>\n",
       "      <td>Under Graduate</td>\n",
       "      <td>Female</td>\n",
       "      <td>5</td>\n",
       "      <td>Manager</td>\n",
       "      <td>2.0</td>\n",
       "      <td>Married</td>\n",
       "      <td>23820.0</td>\n",
       "      <td>0</td>\n",
       "      <td>3.0</td>\n",
       "      <td>700308.0</td>\n",
       "      <td>North</td>\n",
       "      <td>Half Yearly</td>\n",
       "      <td>1</td>\n",
       "      <td>3.0</td>\n",
       "    </tr>\n",
       "  </tbody>\n",
       "</table>\n",
       "<p>4520 rows × 20 columns</p>\n",
       "</div>"
      ],
      "text/plain": [
       "       CustID  AgentBonus   Age  CustTenure              Channel  \\\n",
       "0     7000000        4409  22.0         4.0                Agent   \n",
       "1     7000001        2214  11.0         2.0  Third Party Partner   \n",
       "2     7000002        4273  26.0         4.0                Agent   \n",
       "3     7000003        1791  11.0         NaN  Third Party Partner   \n",
       "4     7000004        2955   6.0         NaN                Agent   \n",
       "...       ...         ...   ...         ...                  ...   \n",
       "4515  7004515        3953   4.0         8.0                Agent   \n",
       "4516  7004516        2939   9.0         9.0                Agent   \n",
       "4517  7004517        3792  23.0        23.0                Agent   \n",
       "4518  7004518        4816  10.0        10.0               Online   \n",
       "4519  7004519        4764  14.0        10.0                Agent   \n",
       "\n",
       "          Occupation  EducationField   Gender  ExistingProdType  \\\n",
       "0           Salaried        Graduate   Female                 3   \n",
       "1           Salaried        Graduate     Male                 4   \n",
       "2        Free Lancer   Post Graduate     Male                 4   \n",
       "3           Salaried        Graduate  Fe male                 3   \n",
       "4     Small Business              UG     Male                 3   \n",
       "...              ...             ...      ...               ...   \n",
       "4515  Small Business        Graduate     Male                 4   \n",
       "4516        Salaried  Under Graduate   Female                 2   \n",
       "4517        Salaried        Engineer   Female                 5   \n",
       "4518  Small Business        Graduate   Female                 4   \n",
       "4519        Salaried  Under Graduate   Female                 5   \n",
       "\n",
       "         Designation  NumberOfPolicy MaritalStatus  MonthlyIncome  Complaint  \\\n",
       "0            Manager             2.0        Single        20993.0          1   \n",
       "1            Manager             4.0      Divorced        20130.0          0   \n",
       "2                Exe             3.0     Unmarried        17090.0          1   \n",
       "3          Executive             3.0      Divorced        17909.0          1   \n",
       "4          Executive             4.0      Divorced        18468.0          0   \n",
       "...              ...             ...           ...            ...        ...   \n",
       "4515  Senior Manager             2.0        Single        26355.0          0   \n",
       "4516       Executive             2.0       Married        20991.0          0   \n",
       "4517             AVP             5.0        Single            NaN          0   \n",
       "4518       Executive             2.0        Single        20068.0          0   \n",
       "4519         Manager             2.0       Married        23820.0          0   \n",
       "\n",
       "      ExistingPolicyTenure  SumAssured   Zone PaymentMethod  LastMonthCalls  \\\n",
       "0                      2.0    806761.0  North   Half Yearly               5   \n",
       "1                      3.0    294502.0  North        Yearly               7   \n",
       "2                      2.0         NaN  North        Yearly               0   \n",
       "3                      2.0    268635.0   West   Half Yearly               0   \n",
       "4                      4.0    366405.0   West   Half Yearly               2   \n",
       "...                    ...         ...    ...           ...             ...   \n",
       "4515                   2.0    636473.0   West        Yearly               9   \n",
       "4516                   3.0    296813.0  North        Yearly               1   \n",
       "4517                   2.0    667371.0  North   Half Yearly               4   \n",
       "4518                   6.0    943999.0   West   Half Yearly               1   \n",
       "4519                   3.0    700308.0  North   Half Yearly               1   \n",
       "\n",
       "      CustCareScore  \n",
       "0               2.0  \n",
       "1               3.0  \n",
       "2               3.0  \n",
       "3               5.0  \n",
       "4               5.0  \n",
       "...             ...  \n",
       "4515            1.0  \n",
       "4516            3.0  \n",
       "4517            1.0  \n",
       "4518            5.0  \n",
       "4519            3.0  \n",
       "\n",
       "[4520 rows x 20 columns]"
      ]
     },
     "execution_count": 45,
     "metadata": {},
     "output_type": "execute_result"
    }
   ],
   "source": [
    "df_1"
   ]
  },
  {
   "cell_type": "code",
   "execution_count": 46,
   "id": "6a014075",
   "metadata": {},
   "outputs": [],
   "source": [
    "df = pd.concat([df.drop('EducationField', axis=1), pd.get_dummies(df['EducationField'])], axis=1)\n"
   ]
  },
  {
   "cell_type": "code",
   "execution_count": 47,
   "id": "0ca4880b",
   "metadata": {},
   "outputs": [
    {
     "data": {
      "text/html": [
       "<div>\n",
       "<style scoped>\n",
       "    .dataframe tbody tr th:only-of-type {\n",
       "        vertical-align: middle;\n",
       "    }\n",
       "\n",
       "    .dataframe tbody tr th {\n",
       "        vertical-align: top;\n",
       "    }\n",
       "\n",
       "    .dataframe thead th {\n",
       "        text-align: right;\n",
       "    }\n",
       "</style>\n",
       "<table border=\"1\" class=\"dataframe\">\n",
       "  <thead>\n",
       "    <tr style=\"text-align: right;\">\n",
       "      <th></th>\n",
       "      <th>CustID</th>\n",
       "      <th>AgentBonus</th>\n",
       "      <th>Age</th>\n",
       "      <th>CustTenure</th>\n",
       "      <th>Gender</th>\n",
       "      <th>ExistingProdType</th>\n",
       "      <th>Designation</th>\n",
       "      <th>NumberOfPolicy</th>\n",
       "      <th>MaritalStatus</th>\n",
       "      <th>MonthlyIncome</th>\n",
       "      <th>...</th>\n",
       "      <th>Large Business</th>\n",
       "      <th>Salaried</th>\n",
       "      <th>Small Business</th>\n",
       "      <th>Diploma</th>\n",
       "      <th>Engineer</th>\n",
       "      <th>Graduate</th>\n",
       "      <th>MBA</th>\n",
       "      <th>Post Graduate</th>\n",
       "      <th>UG</th>\n",
       "      <th>Under Graduate</th>\n",
       "    </tr>\n",
       "  </thead>\n",
       "  <tbody>\n",
       "    <tr>\n",
       "      <th>0</th>\n",
       "      <td>7000000</td>\n",
       "      <td>4409</td>\n",
       "      <td>22.0</td>\n",
       "      <td>4.000000</td>\n",
       "      <td>Female</td>\n",
       "      <td>3</td>\n",
       "      <td>Manager</td>\n",
       "      <td>2.0</td>\n",
       "      <td>Single</td>\n",
       "      <td>20993.0</td>\n",
       "      <td>...</td>\n",
       "      <td>0</td>\n",
       "      <td>1</td>\n",
       "      <td>0</td>\n",
       "      <td>0</td>\n",
       "      <td>0</td>\n",
       "      <td>1</td>\n",
       "      <td>0</td>\n",
       "      <td>0</td>\n",
       "      <td>0</td>\n",
       "      <td>0</td>\n",
       "    </tr>\n",
       "    <tr>\n",
       "      <th>1</th>\n",
       "      <td>7000001</td>\n",
       "      <td>2214</td>\n",
       "      <td>11.0</td>\n",
       "      <td>2.000000</td>\n",
       "      <td>Male</td>\n",
       "      <td>4</td>\n",
       "      <td>Manager</td>\n",
       "      <td>4.0</td>\n",
       "      <td>Divorced</td>\n",
       "      <td>20130.0</td>\n",
       "      <td>...</td>\n",
       "      <td>0</td>\n",
       "      <td>1</td>\n",
       "      <td>0</td>\n",
       "      <td>0</td>\n",
       "      <td>0</td>\n",
       "      <td>1</td>\n",
       "      <td>0</td>\n",
       "      <td>0</td>\n",
       "      <td>0</td>\n",
       "      <td>0</td>\n",
       "    </tr>\n",
       "    <tr>\n",
       "      <th>2</th>\n",
       "      <td>7000002</td>\n",
       "      <td>4273</td>\n",
       "      <td>26.0</td>\n",
       "      <td>4.000000</td>\n",
       "      <td>Male</td>\n",
       "      <td>4</td>\n",
       "      <td>Exe</td>\n",
       "      <td>3.0</td>\n",
       "      <td>Unmarried</td>\n",
       "      <td>17090.0</td>\n",
       "      <td>...</td>\n",
       "      <td>0</td>\n",
       "      <td>0</td>\n",
       "      <td>0</td>\n",
       "      <td>0</td>\n",
       "      <td>0</td>\n",
       "      <td>0</td>\n",
       "      <td>0</td>\n",
       "      <td>1</td>\n",
       "      <td>0</td>\n",
       "      <td>0</td>\n",
       "    </tr>\n",
       "    <tr>\n",
       "      <th>3</th>\n",
       "      <td>7000003</td>\n",
       "      <td>1791</td>\n",
       "      <td>11.0</td>\n",
       "      <td>14.469027</td>\n",
       "      <td>Fe male</td>\n",
       "      <td>3</td>\n",
       "      <td>Executive</td>\n",
       "      <td>3.0</td>\n",
       "      <td>Divorced</td>\n",
       "      <td>17909.0</td>\n",
       "      <td>...</td>\n",
       "      <td>0</td>\n",
       "      <td>1</td>\n",
       "      <td>0</td>\n",
       "      <td>0</td>\n",
       "      <td>0</td>\n",
       "      <td>1</td>\n",
       "      <td>0</td>\n",
       "      <td>0</td>\n",
       "      <td>0</td>\n",
       "      <td>0</td>\n",
       "    </tr>\n",
       "    <tr>\n",
       "      <th>4</th>\n",
       "      <td>7000004</td>\n",
       "      <td>2955</td>\n",
       "      <td>6.0</td>\n",
       "      <td>14.469027</td>\n",
       "      <td>Male</td>\n",
       "      <td>3</td>\n",
       "      <td>Executive</td>\n",
       "      <td>4.0</td>\n",
       "      <td>Divorced</td>\n",
       "      <td>18468.0</td>\n",
       "      <td>...</td>\n",
       "      <td>0</td>\n",
       "      <td>0</td>\n",
       "      <td>1</td>\n",
       "      <td>0</td>\n",
       "      <td>0</td>\n",
       "      <td>0</td>\n",
       "      <td>0</td>\n",
       "      <td>0</td>\n",
       "      <td>1</td>\n",
       "      <td>0</td>\n",
       "    </tr>\n",
       "  </tbody>\n",
       "</table>\n",
       "<p>5 rows × 31 columns</p>\n",
       "</div>"
      ],
      "text/plain": [
       "    CustID  AgentBonus   Age  CustTenure   Gender  ExistingProdType  \\\n",
       "0  7000000        4409  22.0    4.000000   Female                 3   \n",
       "1  7000001        2214  11.0    2.000000     Male                 4   \n",
       "2  7000002        4273  26.0    4.000000     Male                 4   \n",
       "3  7000003        1791  11.0   14.469027  Fe male                 3   \n",
       "4  7000004        2955   6.0   14.469027     Male                 3   \n",
       "\n",
       "  Designation  NumberOfPolicy MaritalStatus  MonthlyIncome  ...  \\\n",
       "0     Manager             2.0        Single        20993.0  ...   \n",
       "1     Manager             4.0      Divorced        20130.0  ...   \n",
       "2         Exe             3.0     Unmarried        17090.0  ...   \n",
       "3   Executive             3.0      Divorced        17909.0  ...   \n",
       "4   Executive             4.0      Divorced        18468.0  ...   \n",
       "\n",
       "   Large Business  Salaried  Small Business Diploma Engineer  Graduate  MBA  \\\n",
       "0               0         1               0       0        0         1    0   \n",
       "1               0         1               0       0        0         1    0   \n",
       "2               0         0               0       0        0         0    0   \n",
       "3               0         1               0       0        0         1    0   \n",
       "4               0         0               1       0        0         0    0   \n",
       "\n",
       "   Post Graduate  UG  Under Graduate  \n",
       "0              0   0               0  \n",
       "1              0   0               0  \n",
       "2              1   0               0  \n",
       "3              0   0               0  \n",
       "4              0   1               0  \n",
       "\n",
       "[5 rows x 31 columns]"
      ]
     },
     "execution_count": 47,
     "metadata": {},
     "output_type": "execute_result"
    }
   ],
   "source": [
    "df.head()"
   ]
  },
  {
   "cell_type": "code",
   "execution_count": 48,
   "id": "951fabfb",
   "metadata": {},
   "outputs": [
    {
     "data": {
      "text/plain": [
       "Male       2688\n",
       "Female     1507\n",
       "Fe male     325\n",
       "Name: Gender, dtype: int64"
      ]
     },
     "execution_count": 48,
     "metadata": {},
     "output_type": "execute_result"
    }
   ],
   "source": [
    "df.Gender.value_counts()"
   ]
  },
  {
   "cell_type": "code",
   "execution_count": 49,
   "id": "068d19a4",
   "metadata": {},
   "outputs": [],
   "source": [
    "df['Gender'] = df['Gender'].replace('Fe male', 'Female')\n"
   ]
  },
  {
   "cell_type": "code",
   "execution_count": 50,
   "id": "861a1b1b",
   "metadata": {},
   "outputs": [],
   "source": [
    "df = pd.concat([df.drop('Gender', axis=1), pd.get_dummies(df['Gender'])], axis=1)\n"
   ]
  },
  {
   "cell_type": "code",
   "execution_count": 51,
   "id": "04c7bd9f",
   "metadata": {},
   "outputs": [],
   "source": [
    "df = pd.concat([df.drop('Designation', axis=1), pd.get_dummies(df['Designation'])], axis=1)\n"
   ]
  },
  {
   "cell_type": "code",
   "execution_count": 52,
   "id": "5e5dd53d",
   "metadata": {},
   "outputs": [],
   "source": [
    "df = pd.concat([df.drop('MaritalStatus', axis=1), pd.get_dummies(df['MaritalStatus'])], axis=1)\n"
   ]
  },
  {
   "cell_type": "code",
   "execution_count": 53,
   "id": "64828857",
   "metadata": {},
   "outputs": [],
   "source": [
    "df = pd.concat([df.drop('Zone', axis=1), pd.get_dummies(df['Zone'])], axis=1)\n"
   ]
  },
  {
   "cell_type": "code",
   "execution_count": 54,
   "id": "3c9f4a7b",
   "metadata": {},
   "outputs": [
    {
     "data": {
      "text/plain": [
       "Half Yearly    2656\n",
       "Yearly         1434\n",
       "Monthly         354\n",
       "Quarterly        76\n",
       "Name: PaymentMethod, dtype: int64"
      ]
     },
     "execution_count": 54,
     "metadata": {},
     "output_type": "execute_result"
    }
   ],
   "source": [
    "df.PaymentMethod.value_counts()"
   ]
  },
  {
   "cell_type": "code",
   "execution_count": 55,
   "id": "e07a4e29",
   "metadata": {},
   "outputs": [],
   "source": [
    "df['PaymentMethod'] = df['PaymentMethod'].replace({\n",
    "    'Yearly': 4,\n",
    "    'Half Yearly': 3,\n",
    "    'Quarterly': 2,\n",
    "    'Monthly': 1\n",
    "})\n"
   ]
  },
  {
   "cell_type": "code",
   "execution_count": 56,
   "id": "3238c59f",
   "metadata": {},
   "outputs": [
    {
     "name": "stdout",
     "output_type": "stream",
     "text": [
      "<class 'pandas.core.frame.DataFrame'>\n",
      "RangeIndex: 4520 entries, 0 to 4519\n",
      "Data columns (total 43 columns):\n",
      " #   Column                Non-Null Count  Dtype  \n",
      "---  ------                --------------  -----  \n",
      " 0   CustID                4520 non-null   int64  \n",
      " 1   AgentBonus            4520 non-null   int64  \n",
      " 2   Age                   4520 non-null   float64\n",
      " 3   CustTenure            4520 non-null   float64\n",
      " 4   ExistingProdType      4520 non-null   int64  \n",
      " 5   NumberOfPolicy        4520 non-null   float64\n",
      " 6   MonthlyIncome         4520 non-null   float64\n",
      " 7   Complaint             4520 non-null   int64  \n",
      " 8   ExistingPolicyTenure  4520 non-null   float64\n",
      " 9   SumAssured            4520 non-null   float64\n",
      " 10  PaymentMethod         4520 non-null   int64  \n",
      " 11  LastMonthCalls        4520 non-null   int64  \n",
      " 12  CustCareScore         4520 non-null   float64\n",
      " 13  Agent                 4520 non-null   uint8  \n",
      " 14  Online                4520 non-null   uint8  \n",
      " 15  Third Party Partner   4520 non-null   uint8  \n",
      " 16  Free Lancer           4520 non-null   uint8  \n",
      " 17  Large Business        4520 non-null   uint8  \n",
      " 18  Salaried              4520 non-null   uint8  \n",
      " 19  Small Business        4520 non-null   uint8  \n",
      " 20  Diploma               4520 non-null   uint8  \n",
      " 21  Engineer              4520 non-null   uint8  \n",
      " 22  Graduate              4520 non-null   uint8  \n",
      " 23  MBA                   4520 non-null   uint8  \n",
      " 24  Post Graduate         4520 non-null   uint8  \n",
      " 25  UG                    4520 non-null   uint8  \n",
      " 26  Under Graduate        4520 non-null   uint8  \n",
      " 27  Female                4520 non-null   uint8  \n",
      " 28  Male                  4520 non-null   uint8  \n",
      " 29  AVP                   4520 non-null   uint8  \n",
      " 30  Exe                   4520 non-null   uint8  \n",
      " 31  Executive             4520 non-null   uint8  \n",
      " 32  Manager               4520 non-null   uint8  \n",
      " 33  Senior Manager        4520 non-null   uint8  \n",
      " 34  VP                    4520 non-null   uint8  \n",
      " 35  Divorced              4520 non-null   uint8  \n",
      " 36  Married               4520 non-null   uint8  \n",
      " 37  Single                4520 non-null   uint8  \n",
      " 38  Unmarried             4520 non-null   uint8  \n",
      " 39  East                  4520 non-null   uint8  \n",
      " 40  North                 4520 non-null   uint8  \n",
      " 41  South                 4520 non-null   uint8  \n",
      " 42  West                  4520 non-null   uint8  \n",
      "dtypes: float64(7), int64(6), uint8(30)\n",
      "memory usage: 591.6 KB\n"
     ]
    }
   ],
   "source": [
    "df.info()"
   ]
  },
  {
   "cell_type": "code",
   "execution_count": 57,
   "id": "80d19293",
   "metadata": {},
   "outputs": [],
   "source": [
    "df.to_csv('Life_Insurance.csv',index=False)"
   ]
  },
  {
   "cell_type": "code",
   "execution_count": 58,
   "id": "44c04dc4",
   "metadata": {},
   "outputs": [
    {
     "name": "stdout",
     "output_type": "stream",
     "text": [
      "/Users/vallirajasekar/Documents/LI_BFSI_01+-+Life+Insurance+Sales\n"
     ]
    }
   ],
   "source": [
    "import os\n",
    "print(os.getcwd())\n"
   ]
  },
  {
   "cell_type": "code",
   "execution_count": 59,
   "id": "5ee815ad",
   "metadata": {},
   "outputs": [
    {
     "data": {
      "image/png": "[encoded data removed]",
      "text/plain": [
       "<Figure size 432x288 with 1 Axes>"
      ]
     },
     "metadata": {
      "needs_background": "light"
     },
     "output_type": "display_data"
    },
    {
     "data": {
      "image/png": "[encoded data removed]",
      "text/plain": [
       "<Figure size 432x288 with 1 Axes>"
      ]
     },
     "metadata": {
      "needs_background": "light"
     },
     "output_type": "display_data"
    },
    {
     "data": {
      "image/png": "[encoded data removed]",
      "text/plain": [
       "<Figure size 432x288 with 1 Axes>"
      ]
     },
     "metadata": {
      "needs_background": "light"
     },
     "output_type": "display_data"
    },
    {
     "data": {
      "image/png": "[encoded data removed]",
      "text/plain": [
       "<Figure size 432x288 with 1 Axes>"
      ]
     },
     "metadata": {
      "needs_background": "light"
     },
     "output_type": "display_data"
    },
    {
     "data": {
      "image/png": "[encoded data removed]",
      "text/plain": [
       "<Figure size 432x288 with 1 Axes>"
      ]
     },
     "metadata": {
      "needs_background": "light"
     },
     "output_type": "display_data"
    },
    {
     "data": {
      "image/png": "[encoded data removed]",
      "text/plain": [
       "<Figure size 432x288 with 1 Axes>"
      ]
     },
     "metadata": {
      "needs_background": "light"
     },
     "output_type": "display_data"
    },
    {
     "data": {
      "image/png": "[encoded data removed]",
      "text/plain": [
       "<Figure size 432x288 with 1 Axes>"
      ]
     },
     "metadata": {
      "needs_background": "light"
     },
     "output_type": "display_data"
    },
    {
     "data": {
      "image/png": "[encoded data removed]",
      "text/plain": [
       "<Figure size 432x288 with 1 Axes>"
      ]
     },
     "metadata": {
      "needs_background": "light"
     },
     "output_type": "display_data"
    },
    {
     "data": {
      "image/png": "[encoded data removed]",
      "text/plain": [
       "<Figure size 432x288 with 1 Axes>"
      ]
     },
     "metadata": {
      "needs_background": "light"
     },
     "output_type": "display_data"
    },
    {
     "data": {
      "image/png": "[encoded data removed]",
      "text/plain": [
       "<Figure size 432x288 with 1 Axes>"
      ]
     },
     "metadata": {
      "needs_background": "light"
     },
     "output_type": "display_data"
    },
    {
     "data": {
      "image/png": "[encoded data removed]",
      "text/plain": [
       "<Figure size 432x288 with 1 Axes>"
      ]
     },
     "metadata": {
      "needs_background": "light"
     },
     "output_type": "display_data"
    },
    {
     "data": {
      "image/png": "[encoded data removed]",
      "text/plain": [
       "<Figure size 432x288 with 1 Axes>"
      ]
     },
     "metadata": {
      "needs_background": "light"
     },
     "output_type": "display_data"
    },
    {
     "data": {
      "image/png": "[encoded data removed]",
      "text/plain": [
       "<Figure size 432x288 with 1 Axes>"
      ]
     },
     "metadata": {
      "needs_background": "light"
     },
     "output_type": "display_data"
    }
   ],
   "source": [
    "for col in df.columns:\n",
    "    if df[col].dtype in ['int64', 'float64']: # check if data is numeric\n",
    "        plt.boxplot(df[col])\n",
    "        plt.title(col)\n",
    "        plt.show()\n"
   ]
  },
  {
   "cell_type": "code",
   "execution_count": 60,
   "id": "e34fa610",
   "metadata": {},
   "outputs": [
    {
     "data": {
      "image/png": "[encoded data removed]",
      "text/plain": [
       "<Figure size 432x288 with 1 Axes>"
      ]
     },
     "metadata": {
      "needs_background": "light"
     },
     "output_type": "display_data"
    },
    {
     "data": {
      "image/png": "[encoded data removed]",
      "text/plain": [
       "<Figure size 432x288 with 1 Axes>"
      ]
     },
     "metadata": {
      "needs_background": "light"
     },
     "output_type": "display_data"
    },
    {
     "data": {
      "image/png": "[encoded data removed]",
      "text/plain": [
       "<Figure size 432x288 with 1 Axes>"
      ]
     },
     "metadata": {
      "needs_background": "light"
     },
     "output_type": "display_data"
    },
    {
     "data": {
      "image/png": "[encoded data removed]",
      "text/plain": [
       "<Figure size 432x288 with 1 Axes>"
      ]
     },
     "metadata": {
      "needs_background": "light"
     },
     "output_type": "display_data"
    },
    {
     "data": {
      "image/png": "[encoded data removed]",
      "text/plain": [
       "<Figure size 432x288 with 1 Axes>"
      ]
     },
     "metadata": {
      "needs_background": "light"
     },
     "output_type": "display_data"
    },
    {
     "data": {
      "image/png": "[encoded data removed]",
      "text/plain": [
       "<Figure size 432x288 with 1 Axes>"
      ]
     },
     "metadata": {
      "needs_background": "light"
     },
     "output_type": "display_data"
    },
    {
     "data": {
      "image/png": "[encoded data removed]",
      "text/plain": [
       "<Figure size 432x288 with 1 Axes>"
      ]
     },
     "metadata": {
      "needs_background": "light"
     },
     "output_type": "display_data"
    },
    {
     "data": {
      "image/png": "[encoded data removed]",
      "text/plain": [
       "<Figure size 432x288 with 1 Axes>"
      ]
     },
     "metadata": {
      "needs_background": "light"
     },
     "output_type": "display_data"
    },
    {
     "data": {
      "image/png": "[encoded data removed]",
      "text/plain": [
       "<Figure size 432x288 with 1 Axes>"
      ]
     },
     "metadata": {
      "needs_background": "light"
     },
     "output_type": "display_data"
    },
    {
     "data": {
      "image/png": "[encoded data removed]",
      "text/plain": [
       "<Figure size 432x288 with 1 Axes>"
      ]
     },
     "metadata": {
      "needs_background": "light"
     },
     "output_type": "display_data"
    },
    {
     "data": {
      "image/png": "[encoded data removed]",
      "text/plain": [
       "<Figure size 432x288 with 1 Axes>"
      ]
     },
     "metadata": {
      "needs_background": "light"
     },
     "output_type": "display_data"
    },
    {
     "data": {
      "image/png": "[encoded data removed]",
      "text/plain": [
       "<Figure size 432x288 with 1 Axes>"
      ]
     },
     "metadata": {
      "needs_background": "light"
     },
     "output_type": "display_data"
    },
    {
     "data": {
      "image/png": "[encoded data removed]",
      "text/plain": [
       "<Figure size 432x288 with 1 Axes>"
      ]
     },
     "metadata": {
      "needs_background": "light"
     },
     "output_type": "display_data"
    }
   ],
   "source": [
    "for col in df.columns:\n",
    "    if df[col].dtype in ['int64', 'float64']: # check if data is numeric\n",
    "        q1 = df[col].quantile(0.25)\n",
    "        q3 = df[col].quantile(0.75)\n",
    "        iqr = q3 - q1\n",
    "        upper_limit = q3 + 1.5*iqr\n",
    "        lower_limit = q1 - 1.5*iqr\n",
    "        df[col] = df[col].apply(lambda x: upper_limit if x > upper_limit else lower_limit if x < lower_limit else x)\n",
    "        plt.boxplot(df[col])\n",
    "        plt.title(col)\n",
    "        plt.show()\n"
   ]
  },
  {
   "cell_type": "code",
   "execution_count": 64,
   "id": "7ef41f91",
   "metadata": {},
   "outputs": [],
   "source": [
    "df_copy=df.copy()"
   ]
  },
  {
   "cell_type": "code",
   "execution_count": 65,
   "id": "024f3449",
   "metadata": {},
   "outputs": [],
   "source": [
    "from scipy.stats import zscore\n",
    "df_scaled=df_copy.apply(zscore)"
   ]
  },
  {
   "cell_type": "code",
   "execution_count": 66,
   "id": "3e44b70e",
   "metadata": {},
   "outputs": [],
   "source": [
    "from sklearn.cluster import KMeans\n",
    "\n",
    "\n",
    "kmeans = KMeans(n_clusters=3)\n",
    "\n",
    "\n",
    "kmeans.fit(df_scaled)\n",
    "\n",
    "\n",
    "labels = kmeans.labels_\n",
    "\n",
    "\n",
    "df_scaled['Cluster'] = labels\n",
    "\n"
   ]
  },
  {
   "cell_type": "code",
   "execution_count": null,
   "id": "a1077641",
   "metadata": {},
   "outputs": [],
   "source": []
  }
 ],
 "metadata": {
  "kernelspec": {
   "display_name": "Python 3 (ipykernel)",
   "language": "python",
   "name": "python3"
  },
  "language_info": {
   "codemirror_mode": {
    "name": "ipython",
    "version": 3
   },
   "file_extension": ".py",
   "mimetype": "text/x-python",
   "name": "python",
   "nbconvert_exporter": "python",
   "pygments_lexer": "ipython3",
   "version": "3.9.7"
  }
 },
 "nbformat": 4,
 "nbformat_minor": 5
}
